{
 "cells": [
  {
   "cell_type": "code",
   "execution_count": 390,
   "id": "e8b90167-fadd-4117-bfc6-00ca965fa285",
   "metadata": {},
   "outputs": [],
   "source": [
    "import pandas as pd\n",
    "import matplotlib.pyplot as plt\n",
    "import numpy as np\n",
    "import joblib\n",
    "import yaml"
   ]
  },
  {
   "cell_type": "code",
   "execution_count": 391,
   "id": "36e593be-30b7-4594-87e9-b4858b5779b7",
   "metadata": {},
   "outputs": [
    {
     "data": {
      "text/html": [
       "<div>\n",
       "<style scoped>\n",
       "    .dataframe tbody tr th:only-of-type {\n",
       "        vertical-align: middle;\n",
       "    }\n",
       "\n",
       "    .dataframe tbody tr th {\n",
       "        vertical-align: top;\n",
       "    }\n",
       "\n",
       "    .dataframe thead th {\n",
       "        text-align: right;\n",
       "    }\n",
       "</style>\n",
       "<table border=\"1\" class=\"dataframe\">\n",
       "  <thead>\n",
       "    <tr style=\"text-align: right;\">\n",
       "      <th></th>\n",
       "      <th>Var. #</th>\n",
       "      <th>Variable Name</th>\n",
       "      <th>Description</th>\n",
       "      <th>Variable Type</th>\n",
       "      <th>Code Description</th>\n",
       "      <th>feature</th>\n",
       "      <th>target</th>\n",
       "    </tr>\n",
       "    <tr>\n",
       "      <th>Variable Name</th>\n",
       "      <th></th>\n",
       "      <th></th>\n",
       "      <th></th>\n",
       "      <th></th>\n",
       "      <th></th>\n",
       "      <th></th>\n",
       "      <th></th>\n",
       "    </tr>\n",
       "  </thead>\n",
       "  <tbody>\n",
       "    <tr>\n",
       "      <th>OBS#</th>\n",
       "      <td>1.</td>\n",
       "      <td>OBS#</td>\n",
       "      <td>Observation No.</td>\n",
       "      <td>Categorical</td>\n",
       "      <td>NaN</td>\n",
       "      <td>0.0</td>\n",
       "      <td>0.0</td>\n",
       "    </tr>\n",
       "    <tr>\n",
       "      <th>CHK_ACCT</th>\n",
       "      <td>2.</td>\n",
       "      <td>CHK_ACCT</td>\n",
       "      <td>Checking account status</td>\n",
       "      <td>Categorical</td>\n",
       "      <td>0 : &lt; 0</td>\n",
       "      <td>1.0</td>\n",
       "      <td>0.0</td>\n",
       "    </tr>\n",
       "    <tr>\n",
       "      <th>DURATION</th>\n",
       "      <td>3.</td>\n",
       "      <td>DURATION</td>\n",
       "      <td>Duration of credit in months</td>\n",
       "      <td>Numerical</td>\n",
       "      <td>NaN</td>\n",
       "      <td>1.0</td>\n",
       "      <td>0.0</td>\n",
       "    </tr>\n",
       "    <tr>\n",
       "      <th>HISTORY</th>\n",
       "      <td>4.</td>\n",
       "      <td>HISTORY</td>\n",
       "      <td>Credit history</td>\n",
       "      <td>Categorical</td>\n",
       "      <td>0: no credits taken                           ...</td>\n",
       "      <td>1.0</td>\n",
       "      <td>0.0</td>\n",
       "    </tr>\n",
       "    <tr>\n",
       "      <th>NEW_CAR</th>\n",
       "      <td>5.</td>\n",
       "      <td>NEW_CAR</td>\n",
       "      <td>Purpose of credit</td>\n",
       "      <td>Binary</td>\n",
       "      <td>car (new)   0: No, 1: Yes</td>\n",
       "      <td>1.0</td>\n",
       "      <td>0.0</td>\n",
       "    </tr>\n",
       "  </tbody>\n",
       "</table>\n",
       "</div>"
      ],
      "text/plain": [
       "              Var. # Variable Name                   Description  \\\n",
       "Variable Name                                                      \n",
       "OBS#            1.            OBS#               Observation No.   \n",
       "CHK_ACCT        2.        CHK_ACCT       Checking account status   \n",
       "DURATION        3.        DURATION  Duration of credit in months   \n",
       "HISTORY         4.         HISTORY                Credit history   \n",
       "NEW_CAR         5.         NEW_CAR             Purpose of credit   \n",
       "\n",
       "              Variable Type  \\\n",
       "Variable Name                 \n",
       "OBS#            Categorical   \n",
       "CHK_ACCT        Categorical   \n",
       "DURATION          Numerical   \n",
       "HISTORY         Categorical   \n",
       "NEW_CAR              Binary   \n",
       "\n",
       "                                                Code Description  feature  \\\n",
       "Variable Name                                                               \n",
       "OBS#                                                         NaN      0.0   \n",
       "CHK_ACCT                                                0 : < 0       1.0   \n",
       "DURATION                                                     NaN      1.0   \n",
       "HISTORY        0: no credits taken                           ...      1.0   \n",
       "NEW_CAR                                car (new)   0: No, 1: Yes      1.0   \n",
       "\n",
       "               target  \n",
       "Variable Name          \n",
       "OBS#              0.0  \n",
       "CHK_ACCT          0.0  \n",
       "DURATION          0.0  \n",
       "HISTORY           0.0  \n",
       "NEW_CAR           0.0  "
      ]
     },
     "execution_count": 391,
     "metadata": {},
     "output_type": "execute_result"
    }
   ],
   "source": [
    "var_df = pd.read_csv('features.csv',skiprows = 1).dropna(subset = ['Variable Name'])\n",
    "var_df.index=var_df['Variable Name']\n",
    "var_df['Variable Type'].drop_duplicates()\n",
    "var_df.head()"
   ]
  },
  {
   "cell_type": "code",
   "execution_count": 392,
   "id": "34776b52-758d-4aac-9127-9291426441e1",
   "metadata": {},
   "outputs": [],
   "source": [
    "feature_list = [r[1]['Variable Name'] for r in var_df.iterrows() if r[1]['feature'] == 1]\n",
    "target = [r[1]['Variable Name'] for r in var_df.iterrows() if r[1]['target'] == 1]"
   ]
  },
  {
   "cell_type": "code",
   "execution_count": 393,
   "id": "18142bab-81ca-4d78-8d4f-04581e3bbe28",
   "metadata": {},
   "outputs": [],
   "source": [
    "dtypes = {}\n",
    "for r in var_df.iterrows():\n",
    "    if r[1]['Variable Type'] == 'Categorical':\n",
    "        dtypes[r[1]['Variable Name']] = 'category'\n",
    "    else:\n",
    "        dtypes[r[1]['Variable Name']] = 'float'\n",
    "dtypes_features = {k:v for k,v in dtypes.items() if k in feature_list}\n",
    "with open('dtypes_features.yaml','w') as dtf:\n",
    "    yaml.dump(dtypes_features,dtf,default_flow_style=False)"
   ]
  },
  {
   "cell_type": "code",
   "execution_count": 394,
   "id": "979d86a5-9171-4b6d-a817-bf36819c2acc",
   "metadata": {},
   "outputs": [
    {
     "data": {
      "text/plain": [
       "False"
      ]
     },
     "execution_count": 394,
     "metadata": {},
     "output_type": "execute_result"
    }
   ],
   "source": [
    "data = pd.read_csv('data.csv',dtype = dtypes)\n",
    "data.isna().any().any()"
   ]
  },
  {
   "cell_type": "code",
   "execution_count": 395,
   "id": "f8f85ec7-83d2-4c69-8fa2-8a7f6b8b4e4c",
   "metadata": {},
   "outputs": [
    {
     "name": "stdout",
     "output_type": "stream",
     "text": [
      "False\n"
     ]
    },
    {
     "data": {
      "text/plain": [
       "{'DEFAULT', 'MALE_MAR_WID', 'MALE_MAR_or_WID', 'OBS#'}"
      ]
     },
     "execution_count": 395,
     "metadata": {},
     "output_type": "execute_result"
    }
   ],
   "source": [
    "print(set(data.columns) == set(feature_list))\n",
    "set(data.columns).symmetric_difference(set(feature_list))"
   ]
  },
  {
   "cell_type": "code",
   "execution_count": 396,
   "id": "62f631d1-3004-4aea-96e7-b24013596def",
   "metadata": {},
   "outputs": [
    {
     "data": {
      "text/plain": [
       "{'DEFAULT', 'MALE_MAR_or_WID', 'OBS#'}"
      ]
     },
     "execution_count": 396,
     "metadata": {},
     "output_type": "execute_result"
    }
   ],
   "source": [
    "set(data.columns).difference(set(feature_list))"
   ]
  },
  {
   "cell_type": "markdown",
   "id": "f9bd8c8f-e6b2-4cdc-b1ea-a6c3c4746430",
   "metadata": {},
   "source": [
    "The symmetric difference of the data columns and feature list shows that MALE_MAR_or_WID needs to change to 'MALE_MAR_WID'."
   ]
  },
  {
   "cell_type": "code",
   "execution_count": 397,
   "id": "125d7887-0637-4ebb-a7f4-8d64be272577",
   "metadata": {},
   "outputs": [],
   "source": [
    "data.rename(columns = {'MALE_MAR_or_WID':'MALE_MAR_WID'},inplace = True)"
   ]
  },
  {
   "cell_type": "markdown",
   "id": "c5d82227-5621-40c3-a447-65bbd6f23b41",
   "metadata": {},
   "source": [
    "Extract X and y variables. Make training and testing set for benchmarking."
   ]
  },
  {
   "cell_type": "code",
   "execution_count": 398,
   "id": "efea1138-2eee-4fe9-b78a-12d7c7fdbd78",
   "metadata": {},
   "outputs": [],
   "source": [
    "from sklearn.model_selection import train_test_split\n",
    "X = data[feature_list]\n",
    "y = data[target]\n",
    "X_tr, X_te, y_tr, y_te = train_test_split(X,y,test_size= .2, random_state=10) #Set random state for consistent benchmarking\n",
    "X_tr.to_csv('X_tr.csv',index = False)\n",
    "X_te.to_csv('X_te.csv',index = False)\n",
    "y_tr.to_csv('y_tr.csv', index = False)\n",
    "y_te.to_csv('y_te.csv', index = False)"
   ]
  },
  {
   "cell_type": "markdown",
   "id": "eeea5ec8-9d96-4572-9e28-a5f229cfc7bf",
   "metadata": {},
   "source": [
    "There are no NA, therefore no (immediate) reason to impute values.\n",
    "# Logistic regression model\n",
    "* 10-fold Cross validate with grid search. It is a small data set so random search/ bayesian hyperparameter optimization is overkill\n",
    "* Transforms:\n",
    "  * One hot encode categorical variables.\n",
    "  * Binary variables should be scaled to 0 or 1.\n",
    "  * Numeric will be made approximately normal using Yeo-Johnson transform (sklearn power transform) as a monotone transform making data closer N(0,1). This transform is capable of taking the log(x + 1)-transform when appropriate (for $ amount variables and other >= variable). \n",
    "  * FeatureUnion creates one transform for all columns by name.\n",
    " "
   ]
  },
  {
   "cell_type": "code",
   "execution_count": 399,
   "id": "00755b02-f5e1-4348-aeab-87d762c3a996",
   "metadata": {},
   "outputs": [],
   "source": [
    "\n",
    "f = feature_list[0]\n",
    "feature_types = {f:var_df.loc[f,'Variable Type'] for f in feature_list}\n"
   ]
  },
  {
   "cell_type": "code",
   "execution_count": 400,
   "id": "e218cf6b-4105-46a8-af49-581146b48eda",
   "metadata": {},
   "outputs": [
    {
     "data": {
      "text/html": [
       "<style>#sk-container-id-84 {color: black;background-color: white;}#sk-container-id-84 pre{padding: 0;}#sk-container-id-84 div.sk-toggleable {background-color: white;}#sk-container-id-84 label.sk-toggleable__label {cursor: pointer;display: block;width: 100%;margin-bottom: 0;padding: 0.3em;box-sizing: border-box;text-align: center;}#sk-container-id-84 label.sk-toggleable__label-arrow:before {content: \"▸\";float: left;margin-right: 0.25em;color: #696969;}#sk-container-id-84 label.sk-toggleable__label-arrow:hover:before {color: black;}#sk-container-id-84 div.sk-estimator:hover label.sk-toggleable__label-arrow:before {color: black;}#sk-container-id-84 div.sk-toggleable__content {max-height: 0;max-width: 0;overflow: hidden;text-align: left;background-color: #f0f8ff;}#sk-container-id-84 div.sk-toggleable__content pre {margin: 0.2em;color: black;border-radius: 0.25em;background-color: #f0f8ff;}#sk-container-id-84 input.sk-toggleable__control:checked~div.sk-toggleable__content {max-height: 200px;max-width: 100%;overflow: auto;}#sk-container-id-84 input.sk-toggleable__control:checked~label.sk-toggleable__label-arrow:before {content: \"▾\";}#sk-container-id-84 div.sk-estimator input.sk-toggleable__control:checked~label.sk-toggleable__label {background-color: #d4ebff;}#sk-container-id-84 div.sk-label input.sk-toggleable__control:checked~label.sk-toggleable__label {background-color: #d4ebff;}#sk-container-id-84 input.sk-hidden--visually {border: 0;clip: rect(1px 1px 1px 1px);clip: rect(1px, 1px, 1px, 1px);height: 1px;margin: -1px;overflow: hidden;padding: 0;position: absolute;width: 1px;}#sk-container-id-84 div.sk-estimator {font-family: monospace;background-color: #f0f8ff;border: 1px dotted black;border-radius: 0.25em;box-sizing: border-box;margin-bottom: 0.5em;}#sk-container-id-84 div.sk-estimator:hover {background-color: #d4ebff;}#sk-container-id-84 div.sk-parallel-item::after {content: \"\";width: 100%;border-bottom: 1px solid gray;flex-grow: 1;}#sk-container-id-84 div.sk-label:hover label.sk-toggleable__label {background-color: #d4ebff;}#sk-container-id-84 div.sk-serial::before {content: \"\";position: absolute;border-left: 1px solid gray;box-sizing: border-box;top: 0;bottom: 0;left: 50%;z-index: 0;}#sk-container-id-84 div.sk-serial {display: flex;flex-direction: column;align-items: center;background-color: white;padding-right: 0.2em;padding-left: 0.2em;position: relative;}#sk-container-id-84 div.sk-item {position: relative;z-index: 1;}#sk-container-id-84 div.sk-parallel {display: flex;align-items: stretch;justify-content: center;background-color: white;position: relative;}#sk-container-id-84 div.sk-item::before, #sk-container-id-84 div.sk-parallel-item::before {content: \"\";position: absolute;border-left: 1px solid gray;box-sizing: border-box;top: 0;bottom: 0;left: 50%;z-index: -1;}#sk-container-id-84 div.sk-parallel-item {display: flex;flex-direction: column;z-index: 1;position: relative;background-color: white;}#sk-container-id-84 div.sk-parallel-item:first-child::after {align-self: flex-end;width: 50%;}#sk-container-id-84 div.sk-parallel-item:last-child::after {align-self: flex-start;width: 50%;}#sk-container-id-84 div.sk-parallel-item:only-child::after {width: 0;}#sk-container-id-84 div.sk-dashed-wrapped {border: 1px dashed gray;margin: 0 0.4em 0.5em 0.4em;box-sizing: border-box;padding-bottom: 0.4em;background-color: white;}#sk-container-id-84 div.sk-label label {font-family: monospace;font-weight: bold;display: inline-block;line-height: 1.2em;}#sk-container-id-84 div.sk-label-container {text-align: center;}#sk-container-id-84 div.sk-container {/* jupyter's `normalize.less` sets `[hidden] { display: none; }` but bootstrap.min.css set `[hidden] { display: none !important; }` so we also need the `!important` here to be able to override the default hidden behavior on the sphinx rendered scikit-learn.org. See: https://github.com/scikit-learn/scikit-learn/issues/21755 */display: inline-block !important;position: relative;}#sk-container-id-84 div.sk-text-repr-fallback {display: none;}</style><div id=\"sk-container-id-84\" class=\"sk-top-container\"><div class=\"sk-text-repr-fallback\"><pre>ColumnTransformer(transformers=[(&#x27;onehot_CHK_ACCT&#x27;, OneHotEncoder(),\n",
       "                                 [&#x27;CHK_ACCT&#x27;]),\n",
       "                                (&#x27;power_DURATION&#x27;, PowerTransformer(),\n",
       "                                 [&#x27;DURATION&#x27;]),\n",
       "                                (&#x27;onehot_HISTORY&#x27;, OneHotEncoder(),\n",
       "                                 [&#x27;HISTORY&#x27;]),\n",
       "                                (&#x27;binary_NEW_CAR&#x27;, MinMaxScaler(), [&#x27;NEW_CAR&#x27;]),\n",
       "                                (&#x27;binary_USED_CAR&#x27;, MinMaxScaler(),\n",
       "                                 [&#x27;USED_CAR&#x27;]),\n",
       "                                (&#x27;binary_FURNITURE&#x27;, MinMaxScaler(),\n",
       "                                 [&#x27;FURNITURE&#x27;]),\n",
       "                                (&#x27;binary_RADIO/TV&#x27;, MinMaxSc...\n",
       "                                (&#x27;binary_RENT&#x27;, MinMaxScaler(), [&#x27;RENT&#x27;]),\n",
       "                                (&#x27;binary_OWN_RES&#x27;, MinMaxScaler(), [&#x27;OWN_RES&#x27;]),\n",
       "                                (&#x27;power_NUM_CREDITS&#x27;, PowerTransformer(),\n",
       "                                 [&#x27;NUM_CREDITS&#x27;]),\n",
       "                                (&#x27;onehot_JOB&#x27;, OneHotEncoder(), [&#x27;JOB&#x27;]),\n",
       "                                (&#x27;power_NUM_DEPENDENTS&#x27;, PowerTransformer(),\n",
       "                                 [&#x27;NUM_DEPENDENTS&#x27;]),\n",
       "                                (&#x27;binary_TELEPHONE&#x27;, MinMaxScaler(),\n",
       "                                 [&#x27;TELEPHONE&#x27;]),\n",
       "                                (&#x27;binary_FOREIGN&#x27;, MinMaxScaler(), [&#x27;FOREIGN&#x27;]),\n",
       "                                (&#x27;scaler_AMOUNT&#x27;, RobustScaler(), [&#x27;AMOUNT&#x27;])])</pre><b>In a Jupyter environment, please rerun this cell to show the HTML representation or trust the notebook. <br />On GitHub, the HTML representation is unable to render, please try loading this page with nbviewer.org.</b></div><div class=\"sk-container\" hidden><div class=\"sk-item sk-dashed-wrapped\"><div class=\"sk-label-container\"><div class=\"sk-label sk-toggleable\"><input class=\"sk-toggleable__control sk-hidden--visually\" id=\"sk-estimator-id-3052\" type=\"checkbox\" ><label for=\"sk-estimator-id-3052\" class=\"sk-toggleable__label sk-toggleable__label-arrow\">ColumnTransformer</label><div class=\"sk-toggleable__content\"><pre>ColumnTransformer(transformers=[(&#x27;onehot_CHK_ACCT&#x27;, OneHotEncoder(),\n",
       "                                 [&#x27;CHK_ACCT&#x27;]),\n",
       "                                (&#x27;power_DURATION&#x27;, PowerTransformer(),\n",
       "                                 [&#x27;DURATION&#x27;]),\n",
       "                                (&#x27;onehot_HISTORY&#x27;, OneHotEncoder(),\n",
       "                                 [&#x27;HISTORY&#x27;]),\n",
       "                                (&#x27;binary_NEW_CAR&#x27;, MinMaxScaler(), [&#x27;NEW_CAR&#x27;]),\n",
       "                                (&#x27;binary_USED_CAR&#x27;, MinMaxScaler(),\n",
       "                                 [&#x27;USED_CAR&#x27;]),\n",
       "                                (&#x27;binary_FURNITURE&#x27;, MinMaxScaler(),\n",
       "                                 [&#x27;FURNITURE&#x27;]),\n",
       "                                (&#x27;binary_RADIO/TV&#x27;, MinMaxSc...\n",
       "                                (&#x27;binary_RENT&#x27;, MinMaxScaler(), [&#x27;RENT&#x27;]),\n",
       "                                (&#x27;binary_OWN_RES&#x27;, MinMaxScaler(), [&#x27;OWN_RES&#x27;]),\n",
       "                                (&#x27;power_NUM_CREDITS&#x27;, PowerTransformer(),\n",
       "                                 [&#x27;NUM_CREDITS&#x27;]),\n",
       "                                (&#x27;onehot_JOB&#x27;, OneHotEncoder(), [&#x27;JOB&#x27;]),\n",
       "                                (&#x27;power_NUM_DEPENDENTS&#x27;, PowerTransformer(),\n",
       "                                 [&#x27;NUM_DEPENDENTS&#x27;]),\n",
       "                                (&#x27;binary_TELEPHONE&#x27;, MinMaxScaler(),\n",
       "                                 [&#x27;TELEPHONE&#x27;]),\n",
       "                                (&#x27;binary_FOREIGN&#x27;, MinMaxScaler(), [&#x27;FOREIGN&#x27;]),\n",
       "                                (&#x27;scaler_AMOUNT&#x27;, RobustScaler(), [&#x27;AMOUNT&#x27;])])</pre></div></div></div><div class=\"sk-parallel\"><div class=\"sk-parallel-item\"><div class=\"sk-item\"><div class=\"sk-label-container\"><div class=\"sk-label sk-toggleable\"><input class=\"sk-toggleable__control sk-hidden--visually\" id=\"sk-estimator-id-3053\" type=\"checkbox\" ><label for=\"sk-estimator-id-3053\" class=\"sk-toggleable__label sk-toggleable__label-arrow\">onehot_CHK_ACCT</label><div class=\"sk-toggleable__content\"><pre>[&#x27;CHK_ACCT&#x27;]</pre></div></div></div><div class=\"sk-serial\"><div class=\"sk-item\"><div class=\"sk-estimator sk-toggleable\"><input class=\"sk-toggleable__control sk-hidden--visually\" id=\"sk-estimator-id-3054\" type=\"checkbox\" ><label for=\"sk-estimator-id-3054\" class=\"sk-toggleable__label sk-toggleable__label-arrow\">OneHotEncoder</label><div class=\"sk-toggleable__content\"><pre>OneHotEncoder()</pre></div></div></div></div></div></div><div class=\"sk-parallel-item\"><div class=\"sk-item\"><div class=\"sk-label-container\"><div class=\"sk-label sk-toggleable\"><input class=\"sk-toggleable__control sk-hidden--visually\" id=\"sk-estimator-id-3055\" type=\"checkbox\" ><label for=\"sk-estimator-id-3055\" class=\"sk-toggleable__label sk-toggleable__label-arrow\">power_DURATION</label><div class=\"sk-toggleable__content\"><pre>[&#x27;DURATION&#x27;]</pre></div></div></div><div class=\"sk-serial\"><div class=\"sk-item\"><div class=\"sk-estimator sk-toggleable\"><input class=\"sk-toggleable__control sk-hidden--visually\" id=\"sk-estimator-id-3056\" type=\"checkbox\" ><label for=\"sk-estimator-id-3056\" class=\"sk-toggleable__label sk-toggleable__label-arrow\">PowerTransformer</label><div class=\"sk-toggleable__content\"><pre>PowerTransformer()</pre></div></div></div></div></div></div><div class=\"sk-parallel-item\"><div class=\"sk-item\"><div class=\"sk-label-container\"><div class=\"sk-label sk-toggleable\"><input class=\"sk-toggleable__control sk-hidden--visually\" id=\"sk-estimator-id-3057\" type=\"checkbox\" ><label for=\"sk-estimator-id-3057\" class=\"sk-toggleable__label sk-toggleable__label-arrow\">onehot_HISTORY</label><div class=\"sk-toggleable__content\"><pre>[&#x27;HISTORY&#x27;]</pre></div></div></div><div class=\"sk-serial\"><div class=\"sk-item\"><div class=\"sk-estimator sk-toggleable\"><input class=\"sk-toggleable__control sk-hidden--visually\" id=\"sk-estimator-id-3058\" type=\"checkbox\" ><label for=\"sk-estimator-id-3058\" class=\"sk-toggleable__label sk-toggleable__label-arrow\">OneHotEncoder</label><div class=\"sk-toggleable__content\"><pre>OneHotEncoder()</pre></div></div></div></div></div></div><div class=\"sk-parallel-item\"><div class=\"sk-item\"><div class=\"sk-label-container\"><div class=\"sk-label sk-toggleable\"><input class=\"sk-toggleable__control sk-hidden--visually\" id=\"sk-estimator-id-3059\" type=\"checkbox\" ><label for=\"sk-estimator-id-3059\" class=\"sk-toggleable__label sk-toggleable__label-arrow\">binary_NEW_CAR</label><div class=\"sk-toggleable__content\"><pre>[&#x27;NEW_CAR&#x27;]</pre></div></div></div><div class=\"sk-serial\"><div class=\"sk-item\"><div class=\"sk-estimator sk-toggleable\"><input class=\"sk-toggleable__control sk-hidden--visually\" id=\"sk-estimator-id-3060\" type=\"checkbox\" ><label for=\"sk-estimator-id-3060\" class=\"sk-toggleable__label sk-toggleable__label-arrow\">MinMaxScaler</label><div class=\"sk-toggleable__content\"><pre>MinMaxScaler()</pre></div></div></div></div></div></div><div class=\"sk-parallel-item\"><div class=\"sk-item\"><div class=\"sk-label-container\"><div class=\"sk-label sk-toggleable\"><input class=\"sk-toggleable__control sk-hidden--visually\" id=\"sk-estimator-id-3061\" type=\"checkbox\" ><label for=\"sk-estimator-id-3061\" class=\"sk-toggleable__label sk-toggleable__label-arrow\">binary_USED_CAR</label><div class=\"sk-toggleable__content\"><pre>[&#x27;USED_CAR&#x27;]</pre></div></div></div><div class=\"sk-serial\"><div class=\"sk-item\"><div class=\"sk-estimator sk-toggleable\"><input class=\"sk-toggleable__control sk-hidden--visually\" id=\"sk-estimator-id-3062\" type=\"checkbox\" ><label for=\"sk-estimator-id-3062\" class=\"sk-toggleable__label sk-toggleable__label-arrow\">MinMaxScaler</label><div class=\"sk-toggleable__content\"><pre>MinMaxScaler()</pre></div></div></div></div></div></div><div class=\"sk-parallel-item\"><div class=\"sk-item\"><div class=\"sk-label-container\"><div class=\"sk-label sk-toggleable\"><input class=\"sk-toggleable__control sk-hidden--visually\" id=\"sk-estimator-id-3063\" type=\"checkbox\" ><label for=\"sk-estimator-id-3063\" class=\"sk-toggleable__label sk-toggleable__label-arrow\">binary_FURNITURE</label><div class=\"sk-toggleable__content\"><pre>[&#x27;FURNITURE&#x27;]</pre></div></div></div><div class=\"sk-serial\"><div class=\"sk-item\"><div class=\"sk-estimator sk-toggleable\"><input class=\"sk-toggleable__control sk-hidden--visually\" id=\"sk-estimator-id-3064\" type=\"checkbox\" ><label for=\"sk-estimator-id-3064\" class=\"sk-toggleable__label sk-toggleable__label-arrow\">MinMaxScaler</label><div class=\"sk-toggleable__content\"><pre>MinMaxScaler()</pre></div></div></div></div></div></div><div class=\"sk-parallel-item\"><div class=\"sk-item\"><div class=\"sk-label-container\"><div class=\"sk-label sk-toggleable\"><input class=\"sk-toggleable__control sk-hidden--visually\" id=\"sk-estimator-id-3065\" type=\"checkbox\" ><label for=\"sk-estimator-id-3065\" class=\"sk-toggleable__label sk-toggleable__label-arrow\">binary_RADIO/TV</label><div class=\"sk-toggleable__content\"><pre>[&#x27;RADIO/TV&#x27;]</pre></div></div></div><div class=\"sk-serial\"><div class=\"sk-item\"><div class=\"sk-estimator sk-toggleable\"><input class=\"sk-toggleable__control sk-hidden--visually\" id=\"sk-estimator-id-3066\" type=\"checkbox\" ><label for=\"sk-estimator-id-3066\" class=\"sk-toggleable__label sk-toggleable__label-arrow\">MinMaxScaler</label><div class=\"sk-toggleable__content\"><pre>MinMaxScaler()</pre></div></div></div></div></div></div><div class=\"sk-parallel-item\"><div class=\"sk-item\"><div class=\"sk-label-container\"><div class=\"sk-label sk-toggleable\"><input class=\"sk-toggleable__control sk-hidden--visually\" id=\"sk-estimator-id-3067\" type=\"checkbox\" ><label for=\"sk-estimator-id-3067\" class=\"sk-toggleable__label sk-toggleable__label-arrow\">binary_EDUCATION</label><div class=\"sk-toggleable__content\"><pre>[&#x27;EDUCATION&#x27;]</pre></div></div></div><div class=\"sk-serial\"><div class=\"sk-item\"><div class=\"sk-estimator sk-toggleable\"><input class=\"sk-toggleable__control sk-hidden--visually\" id=\"sk-estimator-id-3068\" type=\"checkbox\" ><label for=\"sk-estimator-id-3068\" class=\"sk-toggleable__label sk-toggleable__label-arrow\">MinMaxScaler</label><div class=\"sk-toggleable__content\"><pre>MinMaxScaler()</pre></div></div></div></div></div></div><div class=\"sk-parallel-item\"><div class=\"sk-item\"><div class=\"sk-label-container\"><div class=\"sk-label sk-toggleable\"><input class=\"sk-toggleable__control sk-hidden--visually\" id=\"sk-estimator-id-3069\" type=\"checkbox\" ><label for=\"sk-estimator-id-3069\" class=\"sk-toggleable__label sk-toggleable__label-arrow\">binary_RETRAINING</label><div class=\"sk-toggleable__content\"><pre>[&#x27;RETRAINING&#x27;]</pre></div></div></div><div class=\"sk-serial\"><div class=\"sk-item\"><div class=\"sk-estimator sk-toggleable\"><input class=\"sk-toggleable__control sk-hidden--visually\" id=\"sk-estimator-id-3070\" type=\"checkbox\" ><label for=\"sk-estimator-id-3070\" class=\"sk-toggleable__label sk-toggleable__label-arrow\">MinMaxScaler</label><div class=\"sk-toggleable__content\"><pre>MinMaxScaler()</pre></div></div></div></div></div></div><div class=\"sk-parallel-item\"><div class=\"sk-item\"><div class=\"sk-label-container\"><div class=\"sk-label sk-toggleable\"><input class=\"sk-toggleable__control sk-hidden--visually\" id=\"sk-estimator-id-3071\" type=\"checkbox\" ><label for=\"sk-estimator-id-3071\" class=\"sk-toggleable__label sk-toggleable__label-arrow\">onehot_SAV_ACCT</label><div class=\"sk-toggleable__content\"><pre>[&#x27;SAV_ACCT&#x27;]</pre></div></div></div><div class=\"sk-serial\"><div class=\"sk-item\"><div class=\"sk-estimator sk-toggleable\"><input class=\"sk-toggleable__control sk-hidden--visually\" id=\"sk-estimator-id-3072\" type=\"checkbox\" ><label for=\"sk-estimator-id-3072\" class=\"sk-toggleable__label sk-toggleable__label-arrow\">OneHotEncoder</label><div class=\"sk-toggleable__content\"><pre>OneHotEncoder()</pre></div></div></div></div></div></div><div class=\"sk-parallel-item\"><div class=\"sk-item\"><div class=\"sk-label-container\"><div class=\"sk-label sk-toggleable\"><input class=\"sk-toggleable__control sk-hidden--visually\" id=\"sk-estimator-id-3073\" type=\"checkbox\" ><label for=\"sk-estimator-id-3073\" class=\"sk-toggleable__label sk-toggleable__label-arrow\">onehot_EMPLOYMENT</label><div class=\"sk-toggleable__content\"><pre>[&#x27;EMPLOYMENT&#x27;]</pre></div></div></div><div class=\"sk-serial\"><div class=\"sk-item\"><div class=\"sk-estimator sk-toggleable\"><input class=\"sk-toggleable__control sk-hidden--visually\" id=\"sk-estimator-id-3074\" type=\"checkbox\" ><label for=\"sk-estimator-id-3074\" class=\"sk-toggleable__label sk-toggleable__label-arrow\">OneHotEncoder</label><div class=\"sk-toggleable__content\"><pre>OneHotEncoder()</pre></div></div></div></div></div></div><div class=\"sk-parallel-item\"><div class=\"sk-item\"><div class=\"sk-label-container\"><div class=\"sk-label sk-toggleable\"><input class=\"sk-toggleable__control sk-hidden--visually\" id=\"sk-estimator-id-3075\" type=\"checkbox\" ><label for=\"sk-estimator-id-3075\" class=\"sk-toggleable__label sk-toggleable__label-arrow\">power_INSTALL_RATE</label><div class=\"sk-toggleable__content\"><pre>[&#x27;INSTALL_RATE&#x27;]</pre></div></div></div><div class=\"sk-serial\"><div class=\"sk-item\"><div class=\"sk-estimator sk-toggleable\"><input class=\"sk-toggleable__control sk-hidden--visually\" id=\"sk-estimator-id-3076\" type=\"checkbox\" ><label for=\"sk-estimator-id-3076\" class=\"sk-toggleable__label sk-toggleable__label-arrow\">PowerTransformer</label><div class=\"sk-toggleable__content\"><pre>PowerTransformer()</pre></div></div></div></div></div></div><div class=\"sk-parallel-item\"><div class=\"sk-item\"><div class=\"sk-label-container\"><div class=\"sk-label sk-toggleable\"><input class=\"sk-toggleable__control sk-hidden--visually\" id=\"sk-estimator-id-3077\" type=\"checkbox\" ><label for=\"sk-estimator-id-3077\" class=\"sk-toggleable__label sk-toggleable__label-arrow\">binary_MALE_DIV</label><div class=\"sk-toggleable__content\"><pre>[&#x27;MALE_DIV&#x27;]</pre></div></div></div><div class=\"sk-serial\"><div class=\"sk-item\"><div class=\"sk-estimator sk-toggleable\"><input class=\"sk-toggleable__control sk-hidden--visually\" id=\"sk-estimator-id-3078\" type=\"checkbox\" ><label for=\"sk-estimator-id-3078\" class=\"sk-toggleable__label sk-toggleable__label-arrow\">MinMaxScaler</label><div class=\"sk-toggleable__content\"><pre>MinMaxScaler()</pre></div></div></div></div></div></div><div class=\"sk-parallel-item\"><div class=\"sk-item\"><div class=\"sk-label-container\"><div class=\"sk-label sk-toggleable\"><input class=\"sk-toggleable__control sk-hidden--visually\" id=\"sk-estimator-id-3079\" type=\"checkbox\" ><label for=\"sk-estimator-id-3079\" class=\"sk-toggleable__label sk-toggleable__label-arrow\">binary_MALE_SINGLE</label><div class=\"sk-toggleable__content\"><pre>[&#x27;MALE_SINGLE&#x27;]</pre></div></div></div><div class=\"sk-serial\"><div class=\"sk-item\"><div class=\"sk-estimator sk-toggleable\"><input class=\"sk-toggleable__control sk-hidden--visually\" id=\"sk-estimator-id-3080\" type=\"checkbox\" ><label for=\"sk-estimator-id-3080\" class=\"sk-toggleable__label sk-toggleable__label-arrow\">MinMaxScaler</label><div class=\"sk-toggleable__content\"><pre>MinMaxScaler()</pre></div></div></div></div></div></div><div class=\"sk-parallel-item\"><div class=\"sk-item\"><div class=\"sk-label-container\"><div class=\"sk-label sk-toggleable\"><input class=\"sk-toggleable__control sk-hidden--visually\" id=\"sk-estimator-id-3081\" type=\"checkbox\" ><label for=\"sk-estimator-id-3081\" class=\"sk-toggleable__label sk-toggleable__label-arrow\">binary_MALE_MAR_WID</label><div class=\"sk-toggleable__content\"><pre>[&#x27;MALE_MAR_WID&#x27;]</pre></div></div></div><div class=\"sk-serial\"><div class=\"sk-item\"><div class=\"sk-estimator sk-toggleable\"><input class=\"sk-toggleable__control sk-hidden--visually\" id=\"sk-estimator-id-3082\" type=\"checkbox\" ><label for=\"sk-estimator-id-3082\" class=\"sk-toggleable__label sk-toggleable__label-arrow\">MinMaxScaler</label><div class=\"sk-toggleable__content\"><pre>MinMaxScaler()</pre></div></div></div></div></div></div><div class=\"sk-parallel-item\"><div class=\"sk-item\"><div class=\"sk-label-container\"><div class=\"sk-label sk-toggleable\"><input class=\"sk-toggleable__control sk-hidden--visually\" id=\"sk-estimator-id-3083\" type=\"checkbox\" ><label for=\"sk-estimator-id-3083\" class=\"sk-toggleable__label sk-toggleable__label-arrow\">binary_CO-APPLICANT</label><div class=\"sk-toggleable__content\"><pre>[&#x27;CO-APPLICANT&#x27;]</pre></div></div></div><div class=\"sk-serial\"><div class=\"sk-item\"><div class=\"sk-estimator sk-toggleable\"><input class=\"sk-toggleable__control sk-hidden--visually\" id=\"sk-estimator-id-3084\" type=\"checkbox\" ><label for=\"sk-estimator-id-3084\" class=\"sk-toggleable__label sk-toggleable__label-arrow\">MinMaxScaler</label><div class=\"sk-toggleable__content\"><pre>MinMaxScaler()</pre></div></div></div></div></div></div><div class=\"sk-parallel-item\"><div class=\"sk-item\"><div class=\"sk-label-container\"><div class=\"sk-label sk-toggleable\"><input class=\"sk-toggleable__control sk-hidden--visually\" id=\"sk-estimator-id-3085\" type=\"checkbox\" ><label for=\"sk-estimator-id-3085\" class=\"sk-toggleable__label sk-toggleable__label-arrow\">binary_GUARANTOR</label><div class=\"sk-toggleable__content\"><pre>[&#x27;GUARANTOR&#x27;]</pre></div></div></div><div class=\"sk-serial\"><div class=\"sk-item\"><div class=\"sk-estimator sk-toggleable\"><input class=\"sk-toggleable__control sk-hidden--visually\" id=\"sk-estimator-id-3086\" type=\"checkbox\" ><label for=\"sk-estimator-id-3086\" class=\"sk-toggleable__label sk-toggleable__label-arrow\">MinMaxScaler</label><div class=\"sk-toggleable__content\"><pre>MinMaxScaler()</pre></div></div></div></div></div></div><div class=\"sk-parallel-item\"><div class=\"sk-item\"><div class=\"sk-label-container\"><div class=\"sk-label sk-toggleable\"><input class=\"sk-toggleable__control sk-hidden--visually\" id=\"sk-estimator-id-3087\" type=\"checkbox\" ><label for=\"sk-estimator-id-3087\" class=\"sk-toggleable__label sk-toggleable__label-arrow\">onehot_PRESENT_RESIDENT</label><div class=\"sk-toggleable__content\"><pre>[&#x27;PRESENT_RESIDENT&#x27;]</pre></div></div></div><div class=\"sk-serial\"><div class=\"sk-item\"><div class=\"sk-estimator sk-toggleable\"><input class=\"sk-toggleable__control sk-hidden--visually\" id=\"sk-estimator-id-3088\" type=\"checkbox\" ><label for=\"sk-estimator-id-3088\" class=\"sk-toggleable__label sk-toggleable__label-arrow\">OneHotEncoder</label><div class=\"sk-toggleable__content\"><pre>OneHotEncoder()</pre></div></div></div></div></div></div><div class=\"sk-parallel-item\"><div class=\"sk-item\"><div class=\"sk-label-container\"><div class=\"sk-label sk-toggleable\"><input class=\"sk-toggleable__control sk-hidden--visually\" id=\"sk-estimator-id-3089\" type=\"checkbox\" ><label for=\"sk-estimator-id-3089\" class=\"sk-toggleable__label sk-toggleable__label-arrow\">binary_REAL_ESTATE</label><div class=\"sk-toggleable__content\"><pre>[&#x27;REAL_ESTATE&#x27;]</pre></div></div></div><div class=\"sk-serial\"><div class=\"sk-item\"><div class=\"sk-estimator sk-toggleable\"><input class=\"sk-toggleable__control sk-hidden--visually\" id=\"sk-estimator-id-3090\" type=\"checkbox\" ><label for=\"sk-estimator-id-3090\" class=\"sk-toggleable__label sk-toggleable__label-arrow\">MinMaxScaler</label><div class=\"sk-toggleable__content\"><pre>MinMaxScaler()</pre></div></div></div></div></div></div><div class=\"sk-parallel-item\"><div class=\"sk-item\"><div class=\"sk-label-container\"><div class=\"sk-label sk-toggleable\"><input class=\"sk-toggleable__control sk-hidden--visually\" id=\"sk-estimator-id-3091\" type=\"checkbox\" ><label for=\"sk-estimator-id-3091\" class=\"sk-toggleable__label sk-toggleable__label-arrow\">binary_PROP_UNKN_NONE</label><div class=\"sk-toggleable__content\"><pre>[&#x27;PROP_UNKN_NONE&#x27;]</pre></div></div></div><div class=\"sk-serial\"><div class=\"sk-item\"><div class=\"sk-estimator sk-toggleable\"><input class=\"sk-toggleable__control sk-hidden--visually\" id=\"sk-estimator-id-3092\" type=\"checkbox\" ><label for=\"sk-estimator-id-3092\" class=\"sk-toggleable__label sk-toggleable__label-arrow\">MinMaxScaler</label><div class=\"sk-toggleable__content\"><pre>MinMaxScaler()</pre></div></div></div></div></div></div><div class=\"sk-parallel-item\"><div class=\"sk-item\"><div class=\"sk-label-container\"><div class=\"sk-label sk-toggleable\"><input class=\"sk-toggleable__control sk-hidden--visually\" id=\"sk-estimator-id-3093\" type=\"checkbox\" ><label for=\"sk-estimator-id-3093\" class=\"sk-toggleable__label sk-toggleable__label-arrow\">power_AGE</label><div class=\"sk-toggleable__content\"><pre>[&#x27;AGE&#x27;]</pre></div></div></div><div class=\"sk-serial\"><div class=\"sk-item\"><div class=\"sk-estimator sk-toggleable\"><input class=\"sk-toggleable__control sk-hidden--visually\" id=\"sk-estimator-id-3094\" type=\"checkbox\" ><label for=\"sk-estimator-id-3094\" class=\"sk-toggleable__label sk-toggleable__label-arrow\">PowerTransformer</label><div class=\"sk-toggleable__content\"><pre>PowerTransformer()</pre></div></div></div></div></div></div><div class=\"sk-parallel-item\"><div class=\"sk-item\"><div class=\"sk-label-container\"><div class=\"sk-label sk-toggleable\"><input class=\"sk-toggleable__control sk-hidden--visually\" id=\"sk-estimator-id-3095\" type=\"checkbox\" ><label for=\"sk-estimator-id-3095\" class=\"sk-toggleable__label sk-toggleable__label-arrow\">binary_OTHER_INSTALL</label><div class=\"sk-toggleable__content\"><pre>[&#x27;OTHER_INSTALL&#x27;]</pre></div></div></div><div class=\"sk-serial\"><div class=\"sk-item\"><div class=\"sk-estimator sk-toggleable\"><input class=\"sk-toggleable__control sk-hidden--visually\" id=\"sk-estimator-id-3096\" type=\"checkbox\" ><label for=\"sk-estimator-id-3096\" class=\"sk-toggleable__label sk-toggleable__label-arrow\">MinMaxScaler</label><div class=\"sk-toggleable__content\"><pre>MinMaxScaler()</pre></div></div></div></div></div></div><div class=\"sk-parallel-item\"><div class=\"sk-item\"><div class=\"sk-label-container\"><div class=\"sk-label sk-toggleable\"><input class=\"sk-toggleable__control sk-hidden--visually\" id=\"sk-estimator-id-3097\" type=\"checkbox\" ><label for=\"sk-estimator-id-3097\" class=\"sk-toggleable__label sk-toggleable__label-arrow\">binary_RENT</label><div class=\"sk-toggleable__content\"><pre>[&#x27;RENT&#x27;]</pre></div></div></div><div class=\"sk-serial\"><div class=\"sk-item\"><div class=\"sk-estimator sk-toggleable\"><input class=\"sk-toggleable__control sk-hidden--visually\" id=\"sk-estimator-id-3098\" type=\"checkbox\" ><label for=\"sk-estimator-id-3098\" class=\"sk-toggleable__label sk-toggleable__label-arrow\">MinMaxScaler</label><div class=\"sk-toggleable__content\"><pre>MinMaxScaler()</pre></div></div></div></div></div></div><div class=\"sk-parallel-item\"><div class=\"sk-item\"><div class=\"sk-label-container\"><div class=\"sk-label sk-toggleable\"><input class=\"sk-toggleable__control sk-hidden--visually\" id=\"sk-estimator-id-3099\" type=\"checkbox\" ><label for=\"sk-estimator-id-3099\" class=\"sk-toggleable__label sk-toggleable__label-arrow\">binary_OWN_RES</label><div class=\"sk-toggleable__content\"><pre>[&#x27;OWN_RES&#x27;]</pre></div></div></div><div class=\"sk-serial\"><div class=\"sk-item\"><div class=\"sk-estimator sk-toggleable\"><input class=\"sk-toggleable__control sk-hidden--visually\" id=\"sk-estimator-id-3100\" type=\"checkbox\" ><label for=\"sk-estimator-id-3100\" class=\"sk-toggleable__label sk-toggleable__label-arrow\">MinMaxScaler</label><div class=\"sk-toggleable__content\"><pre>MinMaxScaler()</pre></div></div></div></div></div></div><div class=\"sk-parallel-item\"><div class=\"sk-item\"><div class=\"sk-label-container\"><div class=\"sk-label sk-toggleable\"><input class=\"sk-toggleable__control sk-hidden--visually\" id=\"sk-estimator-id-3101\" type=\"checkbox\" ><label for=\"sk-estimator-id-3101\" class=\"sk-toggleable__label sk-toggleable__label-arrow\">power_NUM_CREDITS</label><div class=\"sk-toggleable__content\"><pre>[&#x27;NUM_CREDITS&#x27;]</pre></div></div></div><div class=\"sk-serial\"><div class=\"sk-item\"><div class=\"sk-estimator sk-toggleable\"><input class=\"sk-toggleable__control sk-hidden--visually\" id=\"sk-estimator-id-3102\" type=\"checkbox\" ><label for=\"sk-estimator-id-3102\" class=\"sk-toggleable__label sk-toggleable__label-arrow\">PowerTransformer</label><div class=\"sk-toggleable__content\"><pre>PowerTransformer()</pre></div></div></div></div></div></div><div class=\"sk-parallel-item\"><div class=\"sk-item\"><div class=\"sk-label-container\"><div class=\"sk-label sk-toggleable\"><input class=\"sk-toggleable__control sk-hidden--visually\" id=\"sk-estimator-id-3103\" type=\"checkbox\" ><label for=\"sk-estimator-id-3103\" class=\"sk-toggleable__label sk-toggleable__label-arrow\">onehot_JOB</label><div class=\"sk-toggleable__content\"><pre>[&#x27;JOB&#x27;]</pre></div></div></div><div class=\"sk-serial\"><div class=\"sk-item\"><div class=\"sk-estimator sk-toggleable\"><input class=\"sk-toggleable__control sk-hidden--visually\" id=\"sk-estimator-id-3104\" type=\"checkbox\" ><label for=\"sk-estimator-id-3104\" class=\"sk-toggleable__label sk-toggleable__label-arrow\">OneHotEncoder</label><div class=\"sk-toggleable__content\"><pre>OneHotEncoder()</pre></div></div></div></div></div></div><div class=\"sk-parallel-item\"><div class=\"sk-item\"><div class=\"sk-label-container\"><div class=\"sk-label sk-toggleable\"><input class=\"sk-toggleable__control sk-hidden--visually\" id=\"sk-estimator-id-3105\" type=\"checkbox\" ><label for=\"sk-estimator-id-3105\" class=\"sk-toggleable__label sk-toggleable__label-arrow\">power_NUM_DEPENDENTS</label><div class=\"sk-toggleable__content\"><pre>[&#x27;NUM_DEPENDENTS&#x27;]</pre></div></div></div><div class=\"sk-serial\"><div class=\"sk-item\"><div class=\"sk-estimator sk-toggleable\"><input class=\"sk-toggleable__control sk-hidden--visually\" id=\"sk-estimator-id-3106\" type=\"checkbox\" ><label for=\"sk-estimator-id-3106\" class=\"sk-toggleable__label sk-toggleable__label-arrow\">PowerTransformer</label><div class=\"sk-toggleable__content\"><pre>PowerTransformer()</pre></div></div></div></div></div></div><div class=\"sk-parallel-item\"><div class=\"sk-item\"><div class=\"sk-label-container\"><div class=\"sk-label sk-toggleable\"><input class=\"sk-toggleable__control sk-hidden--visually\" id=\"sk-estimator-id-3107\" type=\"checkbox\" ><label for=\"sk-estimator-id-3107\" class=\"sk-toggleable__label sk-toggleable__label-arrow\">binary_TELEPHONE</label><div class=\"sk-toggleable__content\"><pre>[&#x27;TELEPHONE&#x27;]</pre></div></div></div><div class=\"sk-serial\"><div class=\"sk-item\"><div class=\"sk-estimator sk-toggleable\"><input class=\"sk-toggleable__control sk-hidden--visually\" id=\"sk-estimator-id-3108\" type=\"checkbox\" ><label for=\"sk-estimator-id-3108\" class=\"sk-toggleable__label sk-toggleable__label-arrow\">MinMaxScaler</label><div class=\"sk-toggleable__content\"><pre>MinMaxScaler()</pre></div></div></div></div></div></div><div class=\"sk-parallel-item\"><div class=\"sk-item\"><div class=\"sk-label-container\"><div class=\"sk-label sk-toggleable\"><input class=\"sk-toggleable__control sk-hidden--visually\" id=\"sk-estimator-id-3109\" type=\"checkbox\" ><label for=\"sk-estimator-id-3109\" class=\"sk-toggleable__label sk-toggleable__label-arrow\">binary_FOREIGN</label><div class=\"sk-toggleable__content\"><pre>[&#x27;FOREIGN&#x27;]</pre></div></div></div><div class=\"sk-serial\"><div class=\"sk-item\"><div class=\"sk-estimator sk-toggleable\"><input class=\"sk-toggleable__control sk-hidden--visually\" id=\"sk-estimator-id-3110\" type=\"checkbox\" ><label for=\"sk-estimator-id-3110\" class=\"sk-toggleable__label sk-toggleable__label-arrow\">MinMaxScaler</label><div class=\"sk-toggleable__content\"><pre>MinMaxScaler()</pre></div></div></div></div></div></div><div class=\"sk-parallel-item\"><div class=\"sk-item\"><div class=\"sk-label-container\"><div class=\"sk-label sk-toggleable\"><input class=\"sk-toggleable__control sk-hidden--visually\" id=\"sk-estimator-id-3111\" type=\"checkbox\" ><label for=\"sk-estimator-id-3111\" class=\"sk-toggleable__label sk-toggleable__label-arrow\">scaler_AMOUNT</label><div class=\"sk-toggleable__content\"><pre>[&#x27;AMOUNT&#x27;]</pre></div></div></div><div class=\"sk-serial\"><div class=\"sk-item\"><div class=\"sk-estimator sk-toggleable\"><input class=\"sk-toggleable__control sk-hidden--visually\" id=\"sk-estimator-id-3112\" type=\"checkbox\" ><label for=\"sk-estimator-id-3112\" class=\"sk-toggleable__label sk-toggleable__label-arrow\">RobustScaler</label><div class=\"sk-toggleable__content\"><pre>RobustScaler()</pre></div></div></div></div></div></div></div></div></div></div>"
      ],
      "text/plain": [
       "ColumnTransformer(transformers=[('onehot_CHK_ACCT', OneHotEncoder(),\n",
       "                                 ['CHK_ACCT']),\n",
       "                                ('power_DURATION', PowerTransformer(),\n",
       "                                 ['DURATION']),\n",
       "                                ('onehot_HISTORY', OneHotEncoder(),\n",
       "                                 ['HISTORY']),\n",
       "                                ('binary_NEW_CAR', MinMaxScaler(), ['NEW_CAR']),\n",
       "                                ('binary_USED_CAR', MinMaxScaler(),\n",
       "                                 ['USED_CAR']),\n",
       "                                ('binary_FURNITURE', MinMaxScaler(),\n",
       "                                 ['FURNITURE']),\n",
       "                                ('binary_RADIO/TV', MinMaxSc...\n",
       "                                ('binary_RENT', MinMaxScaler(), ['RENT']),\n",
       "                                ('binary_OWN_RES', MinMaxScaler(), ['OWN_RES']),\n",
       "                                ('power_NUM_CREDITS', PowerTransformer(),\n",
       "                                 ['NUM_CREDITS']),\n",
       "                                ('onehot_JOB', OneHotEncoder(), ['JOB']),\n",
       "                                ('power_NUM_DEPENDENTS', PowerTransformer(),\n",
       "                                 ['NUM_DEPENDENTS']),\n",
       "                                ('binary_TELEPHONE', MinMaxScaler(),\n",
       "                                 ['TELEPHONE']),\n",
       "                                ('binary_FOREIGN', MinMaxScaler(), ['FOREIGN']),\n",
       "                                ('scaler_AMOUNT', RobustScaler(), ['AMOUNT'])])"
      ]
     },
     "execution_count": 400,
     "metadata": {},
     "output_type": "execute_result"
    }
   ],
   "source": [
    "# modules needed for logistic regression model\n",
    "from sklearn.linear_model import LogisticRegression\n",
    "from sklearn.preprocessing import OneHotEncoder, PowerTransformer, MinMaxScaler, KBinsDiscretizer, Binarizer, RobustScaler\n",
    "from sklearn.pipeline import Pipeline, FeatureUnion\n",
    "from sklearn.compose import ColumnTransformer\n",
    "from sklearn.model_selection import GridSearchCV, StratifiedKFold\n",
    "from sklearn.metrics import log_loss, make_scorer,  roc_auc_score\n",
    "from sklearn.impute  import SimpleImputer\n",
    "#\n",
    "\n",
    "from sklearn import set_config\n",
    "set_config(display = 'diagram')\n",
    "col_transformers = []\n",
    "for k, v in feature_types.items():\n",
    "    if k == 'AMOUNT':\n",
    "        continue\n",
    "    if v == 'Numerical':\n",
    "        col_transformers += [('power_'+k,PowerTransformer(),[k])]\n",
    "    if v == 'Categorical':\n",
    "        col_transformers += [('onehot_'+k,OneHotEncoder(),[k])]\n",
    "    if v == 'Binary':\n",
    "        col_transformers += [('binary_'+k,MinMaxScaler(),[k])]\n",
    "col_transformers += [('scaler_'+'AMOUNT',RobustScaler(),['AMOUNT'])]\n",
    "ColumnTransformer(col_transformers)\n",
    "\n"
   ]
  },
  {
   "cell_type": "code",
   "execution_count": 401,
   "id": "2ae21667-e3c1-4fe3-8855-b456f29a3d2e",
   "metadata": {},
   "outputs": [],
   "source": [
    "\n",
    "def interact_last(X):\n",
    "    return np.c_[X[:,:-5]*X[:,-5:-4],X[:,:-5]*X[:,-4:-3],X[:,:-5]*X[:,-3:-2],X[:,:-5]*X[:,-2:-1],X[:,:-5]*X[:,-1:]]\n",
    "def func_feature_name(transformer, feature_names):\n",
    "    return feature_names[:-1]\n",
    "\n",
    "\n",
    "\n",
    "feature_transform.fit_transform(X_tr)\n",
    "from sklearn.preprocessing import FunctionTransformer, StandardScaler\n",
    "from sklearn.impute import SimpleImputer\n",
    "\n",
    "interaction_transformer = FeatureUnion([('',FunctionTransformer(func = None,feature_names_out='one-to-one')),\n",
    "                            ('AMT',Pipeline([('multamt',FunctionTransformer(func = interact_last,feature_names_out=func_feature_name)),\n",
    "                                            ('impute0',SimpleImputer(strategy = 'mean',missing_values = 0)),\n",
    "                                            ('scale',StandardScaler())]))])\n",
    "\n",
    "feature_transformer = Pipeline([('transforms',ColumnTransformer(col_transformers,remainder = 'drop',verbose_feature_names_out=False))])\n",
    "\n",
    "logistic_model = Pipeline([('feature_transformer',feature_transformer),\n",
    "                           ('logistic_regression',LogisticRegression(penalty = 'elasticnet',solver = 'saga'))])\n"
   ]
  },
  {
   "cell_type": "code",
   "execution_count": 327,
   "id": "f9b45787-b481-404e-b2d4-394eb90101e3",
   "metadata": {},
   "outputs": [
    {
     "data": {
      "text/html": [
       "<style>#sk-container-id-70 {color: black;background-color: white;}#sk-container-id-70 pre{padding: 0;}#sk-container-id-70 div.sk-toggleable {background-color: white;}#sk-container-id-70 label.sk-toggleable__label {cursor: pointer;display: block;width: 100%;margin-bottom: 0;padding: 0.3em;box-sizing: border-box;text-align: center;}#sk-container-id-70 label.sk-toggleable__label-arrow:before {content: \"▸\";float: left;margin-right: 0.25em;color: #696969;}#sk-container-id-70 label.sk-toggleable__label-arrow:hover:before {color: black;}#sk-container-id-70 div.sk-estimator:hover label.sk-toggleable__label-arrow:before {color: black;}#sk-container-id-70 div.sk-toggleable__content {max-height: 0;max-width: 0;overflow: hidden;text-align: left;background-color: #f0f8ff;}#sk-container-id-70 div.sk-toggleable__content pre {margin: 0.2em;color: black;border-radius: 0.25em;background-color: #f0f8ff;}#sk-container-id-70 input.sk-toggleable__control:checked~div.sk-toggleable__content {max-height: 200px;max-width: 100%;overflow: auto;}#sk-container-id-70 input.sk-toggleable__control:checked~label.sk-toggleable__label-arrow:before {content: \"▾\";}#sk-container-id-70 div.sk-estimator input.sk-toggleable__control:checked~label.sk-toggleable__label {background-color: #d4ebff;}#sk-container-id-70 div.sk-label input.sk-toggleable__control:checked~label.sk-toggleable__label {background-color: #d4ebff;}#sk-container-id-70 input.sk-hidden--visually {border: 0;clip: rect(1px 1px 1px 1px);clip: rect(1px, 1px, 1px, 1px);height: 1px;margin: -1px;overflow: hidden;padding: 0;position: absolute;width: 1px;}#sk-container-id-70 div.sk-estimator {font-family: monospace;background-color: #f0f8ff;border: 1px dotted black;border-radius: 0.25em;box-sizing: border-box;margin-bottom: 0.5em;}#sk-container-id-70 div.sk-estimator:hover {background-color: #d4ebff;}#sk-container-id-70 div.sk-parallel-item::after {content: \"\";width: 100%;border-bottom: 1px solid gray;flex-grow: 1;}#sk-container-id-70 div.sk-label:hover label.sk-toggleable__label {background-color: #d4ebff;}#sk-container-id-70 div.sk-serial::before {content: \"\";position: absolute;border-left: 1px solid gray;box-sizing: border-box;top: 0;bottom: 0;left: 50%;z-index: 0;}#sk-container-id-70 div.sk-serial {display: flex;flex-direction: column;align-items: center;background-color: white;padding-right: 0.2em;padding-left: 0.2em;position: relative;}#sk-container-id-70 div.sk-item {position: relative;z-index: 1;}#sk-container-id-70 div.sk-parallel {display: flex;align-items: stretch;justify-content: center;background-color: white;position: relative;}#sk-container-id-70 div.sk-item::before, #sk-container-id-70 div.sk-parallel-item::before {content: \"\";position: absolute;border-left: 1px solid gray;box-sizing: border-box;top: 0;bottom: 0;left: 50%;z-index: -1;}#sk-container-id-70 div.sk-parallel-item {display: flex;flex-direction: column;z-index: 1;position: relative;background-color: white;}#sk-container-id-70 div.sk-parallel-item:first-child::after {align-self: flex-end;width: 50%;}#sk-container-id-70 div.sk-parallel-item:last-child::after {align-self: flex-start;width: 50%;}#sk-container-id-70 div.sk-parallel-item:only-child::after {width: 0;}#sk-container-id-70 div.sk-dashed-wrapped {border: 1px dashed gray;margin: 0 0.4em 0.5em 0.4em;box-sizing: border-box;padding-bottom: 0.4em;background-color: white;}#sk-container-id-70 div.sk-label label {font-family: monospace;font-weight: bold;display: inline-block;line-height: 1.2em;}#sk-container-id-70 div.sk-label-container {text-align: center;}#sk-container-id-70 div.sk-container {/* jupyter's `normalize.less` sets `[hidden] { display: none; }` but bootstrap.min.css set `[hidden] { display: none !important; }` so we also need the `!important` here to be able to override the default hidden behavior on the sphinx rendered scikit-learn.org. See: https://github.com/scikit-learn/scikit-learn/issues/21755 */display: inline-block !important;position: relative;}#sk-container-id-70 div.sk-text-repr-fallback {display: none;}</style><div id=\"sk-container-id-70\" class=\"sk-top-container\"><div class=\"sk-text-repr-fallback\"><pre>Pipeline(steps=[(&#x27;feature_transformer&#x27;,\n",
       "                 Pipeline(steps=[(&#x27;transforms&#x27;,\n",
       "                                  ColumnTransformer(transformers=[(&#x27;onehot_CHK_ACCT&#x27;,\n",
       "                                                                   OneHotEncoder(),\n",
       "                                                                   [&#x27;CHK_ACCT&#x27;]),\n",
       "                                                                  (&#x27;power_DURATION&#x27;,\n",
       "                                                                   PowerTransformer(),\n",
       "                                                                   [&#x27;DURATION&#x27;]),\n",
       "                                                                  (&#x27;onehot_HISTORY&#x27;,\n",
       "                                                                   OneHotEncoder(),\n",
       "                                                                   [&#x27;HISTORY&#x27;]),\n",
       "                                                                  (&#x27;binary_NEW_CAR&#x27;,\n",
       "                                                                   MinMaxScaler(),\n",
       "                                                                   [&#x27;NEW_CAR&#x27;]),\n",
       "                                                                  (&#x27;binary_USED_CAR&#x27;,\n",
       "                                                                   MinMaxScaler(),\n",
       "                                                                   [&#x27;USED_CAR&#x27;]),\n",
       "                                                                  (&#x27;binary...\n",
       "                                                                  (&#x27;onehot_JOB&#x27;,\n",
       "                                                                   OneHotEncoder(),\n",
       "                                                                   [&#x27;JOB&#x27;]),\n",
       "                                                                  (&#x27;power_NUM_DEPENDENTS&#x27;,\n",
       "                                                                   PowerTransformer(),\n",
       "                                                                   [&#x27;NUM_DEPENDENTS&#x27;]),\n",
       "                                                                  (&#x27;binary_TELEPHONE&#x27;,\n",
       "                                                                   MinMaxScaler(),\n",
       "                                                                   [&#x27;TELEPHONE&#x27;]),\n",
       "                                                                  (&#x27;binary_FOREIGN&#x27;,\n",
       "                                                                   MinMaxScaler(),\n",
       "                                                                   [&#x27;FOREIGN&#x27;]),\n",
       "                                                                  (&#x27;scaler_AMOUNT&#x27;,\n",
       "                                                                   RobustScaler(),\n",
       "                                                                   [&#x27;AMOUNT&#x27;])],\n",
       "                                                    verbose_feature_names_out=False))])),\n",
       "                (&#x27;logistic_regression&#x27;,\n",
       "                 LogisticRegression(penalty=&#x27;elasticnet&#x27;, solver=&#x27;saga&#x27;))])</pre><b>In a Jupyter environment, please rerun this cell to show the HTML representation or trust the notebook. <br />On GitHub, the HTML representation is unable to render, please try loading this page with nbviewer.org.</b></div><div class=\"sk-container\" hidden><div class=\"sk-item sk-dashed-wrapped\"><div class=\"sk-label-container\"><div class=\"sk-label sk-toggleable\"><input class=\"sk-toggleable__control sk-hidden--visually\" id=\"sk-estimator-id-2814\" type=\"checkbox\" ><label for=\"sk-estimator-id-2814\" class=\"sk-toggleable__label sk-toggleable__label-arrow\">Pipeline</label><div class=\"sk-toggleable__content\"><pre>Pipeline(steps=[(&#x27;feature_transformer&#x27;,\n",
       "                 Pipeline(steps=[(&#x27;transforms&#x27;,\n",
       "                                  ColumnTransformer(transformers=[(&#x27;onehot_CHK_ACCT&#x27;,\n",
       "                                                                   OneHotEncoder(),\n",
       "                                                                   [&#x27;CHK_ACCT&#x27;]),\n",
       "                                                                  (&#x27;power_DURATION&#x27;,\n",
       "                                                                   PowerTransformer(),\n",
       "                                                                   [&#x27;DURATION&#x27;]),\n",
       "                                                                  (&#x27;onehot_HISTORY&#x27;,\n",
       "                                                                   OneHotEncoder(),\n",
       "                                                                   [&#x27;HISTORY&#x27;]),\n",
       "                                                                  (&#x27;binary_NEW_CAR&#x27;,\n",
       "                                                                   MinMaxScaler(),\n",
       "                                                                   [&#x27;NEW_CAR&#x27;]),\n",
       "                                                                  (&#x27;binary_USED_CAR&#x27;,\n",
       "                                                                   MinMaxScaler(),\n",
       "                                                                   [&#x27;USED_CAR&#x27;]),\n",
       "                                                                  (&#x27;binary...\n",
       "                                                                  (&#x27;onehot_JOB&#x27;,\n",
       "                                                                   OneHotEncoder(),\n",
       "                                                                   [&#x27;JOB&#x27;]),\n",
       "                                                                  (&#x27;power_NUM_DEPENDENTS&#x27;,\n",
       "                                                                   PowerTransformer(),\n",
       "                                                                   [&#x27;NUM_DEPENDENTS&#x27;]),\n",
       "                                                                  (&#x27;binary_TELEPHONE&#x27;,\n",
       "                                                                   MinMaxScaler(),\n",
       "                                                                   [&#x27;TELEPHONE&#x27;]),\n",
       "                                                                  (&#x27;binary_FOREIGN&#x27;,\n",
       "                                                                   MinMaxScaler(),\n",
       "                                                                   [&#x27;FOREIGN&#x27;]),\n",
       "                                                                  (&#x27;scaler_AMOUNT&#x27;,\n",
       "                                                                   RobustScaler(),\n",
       "                                                                   [&#x27;AMOUNT&#x27;])],\n",
       "                                                    verbose_feature_names_out=False))])),\n",
       "                (&#x27;logistic_regression&#x27;,\n",
       "                 LogisticRegression(penalty=&#x27;elasticnet&#x27;, solver=&#x27;saga&#x27;))])</pre></div></div></div><div class=\"sk-serial\"><div class=\"sk-item\"><div class=\"sk-label-container\"><div class=\"sk-label sk-toggleable\"><input class=\"sk-toggleable__control sk-hidden--visually\" id=\"sk-estimator-id-2815\" type=\"checkbox\" ><label for=\"sk-estimator-id-2815\" class=\"sk-toggleable__label sk-toggleable__label-arrow\">feature_transformer: Pipeline</label><div class=\"sk-toggleable__content\"><pre>Pipeline(steps=[(&#x27;transforms&#x27;,\n",
       "                 ColumnTransformer(transformers=[(&#x27;onehot_CHK_ACCT&#x27;,\n",
       "                                                  OneHotEncoder(),\n",
       "                                                  [&#x27;CHK_ACCT&#x27;]),\n",
       "                                                 (&#x27;power_DURATION&#x27;,\n",
       "                                                  PowerTransformer(),\n",
       "                                                  [&#x27;DURATION&#x27;]),\n",
       "                                                 (&#x27;onehot_HISTORY&#x27;,\n",
       "                                                  OneHotEncoder(),\n",
       "                                                  [&#x27;HISTORY&#x27;]),\n",
       "                                                 (&#x27;binary_NEW_CAR&#x27;,\n",
       "                                                  MinMaxScaler(), [&#x27;NEW_CAR&#x27;]),\n",
       "                                                 (&#x27;binary_USED_CAR&#x27;,\n",
       "                                                  MinMaxScaler(),\n",
       "                                                  [&#x27;USED_CAR&#x27;]),\n",
       "                                                 (&#x27;binary_FURNITURE&#x27;,\n",
       "                                                  MinMaxScaler(),\n",
       "                                                  [&#x27;FURNITURE&#x27;...\n",
       "                                                  MinMaxScaler(), [&#x27;OWN_RES&#x27;]),\n",
       "                                                 (&#x27;power_NUM_CREDITS&#x27;,\n",
       "                                                  PowerTransformer(),\n",
       "                                                  [&#x27;NUM_CREDITS&#x27;]),\n",
       "                                                 (&#x27;onehot_JOB&#x27;, OneHotEncoder(),\n",
       "                                                  [&#x27;JOB&#x27;]),\n",
       "                                                 (&#x27;power_NUM_DEPENDENTS&#x27;,\n",
       "                                                  PowerTransformer(),\n",
       "                                                  [&#x27;NUM_DEPENDENTS&#x27;]),\n",
       "                                                 (&#x27;binary_TELEPHONE&#x27;,\n",
       "                                                  MinMaxScaler(),\n",
       "                                                  [&#x27;TELEPHONE&#x27;]),\n",
       "                                                 (&#x27;binary_FOREIGN&#x27;,\n",
       "                                                  MinMaxScaler(), [&#x27;FOREIGN&#x27;]),\n",
       "                                                 (&#x27;scaler_AMOUNT&#x27;,\n",
       "                                                  RobustScaler(), [&#x27;AMOUNT&#x27;])],\n",
       "                                   verbose_feature_names_out=False))])</pre></div></div></div><div class=\"sk-serial\"><div class=\"sk-item sk-dashed-wrapped\"><div class=\"sk-label-container\"><div class=\"sk-label sk-toggleable\"><input class=\"sk-toggleable__control sk-hidden--visually\" id=\"sk-estimator-id-2816\" type=\"checkbox\" ><label for=\"sk-estimator-id-2816\" class=\"sk-toggleable__label sk-toggleable__label-arrow\">transforms: ColumnTransformer</label><div class=\"sk-toggleable__content\"><pre>ColumnTransformer(transformers=[(&#x27;onehot_CHK_ACCT&#x27;, OneHotEncoder(),\n",
       "                                 [&#x27;CHK_ACCT&#x27;]),\n",
       "                                (&#x27;power_DURATION&#x27;, PowerTransformer(),\n",
       "                                 [&#x27;DURATION&#x27;]),\n",
       "                                (&#x27;onehot_HISTORY&#x27;, OneHotEncoder(),\n",
       "                                 [&#x27;HISTORY&#x27;]),\n",
       "                                (&#x27;binary_NEW_CAR&#x27;, MinMaxScaler(), [&#x27;NEW_CAR&#x27;]),\n",
       "                                (&#x27;binary_USED_CAR&#x27;, MinMaxScaler(),\n",
       "                                 [&#x27;USED_CAR&#x27;]),\n",
       "                                (&#x27;binary_FURNITURE&#x27;, MinMaxScaler(),\n",
       "                                 [&#x27;FURNITURE&#x27;]),\n",
       "                                (&#x27;binary_RADIO/TV&#x27;, MinMaxSc...\n",
       "                                (&#x27;binary_OWN_RES&#x27;, MinMaxScaler(), [&#x27;OWN_RES&#x27;]),\n",
       "                                (&#x27;power_NUM_CREDITS&#x27;, PowerTransformer(),\n",
       "                                 [&#x27;NUM_CREDITS&#x27;]),\n",
       "                                (&#x27;onehot_JOB&#x27;, OneHotEncoder(), [&#x27;JOB&#x27;]),\n",
       "                                (&#x27;power_NUM_DEPENDENTS&#x27;, PowerTransformer(),\n",
       "                                 [&#x27;NUM_DEPENDENTS&#x27;]),\n",
       "                                (&#x27;binary_TELEPHONE&#x27;, MinMaxScaler(),\n",
       "                                 [&#x27;TELEPHONE&#x27;]),\n",
       "                                (&#x27;binary_FOREIGN&#x27;, MinMaxScaler(), [&#x27;FOREIGN&#x27;]),\n",
       "                                (&#x27;scaler_AMOUNT&#x27;, RobustScaler(), [&#x27;AMOUNT&#x27;])],\n",
       "                  verbose_feature_names_out=False)</pre></div></div></div><div class=\"sk-parallel\"><div class=\"sk-parallel-item\"><div class=\"sk-item\"><div class=\"sk-label-container\"><div class=\"sk-label sk-toggleable\"><input class=\"sk-toggleable__control sk-hidden--visually\" id=\"sk-estimator-id-2817\" type=\"checkbox\" ><label for=\"sk-estimator-id-2817\" class=\"sk-toggleable__label sk-toggleable__label-arrow\">onehot_CHK_ACCT</label><div class=\"sk-toggleable__content\"><pre>[&#x27;CHK_ACCT&#x27;]</pre></div></div></div><div class=\"sk-serial\"><div class=\"sk-item\"><div class=\"sk-estimator sk-toggleable\"><input class=\"sk-toggleable__control sk-hidden--visually\" id=\"sk-estimator-id-2818\" type=\"checkbox\" ><label for=\"sk-estimator-id-2818\" class=\"sk-toggleable__label sk-toggleable__label-arrow\">OneHotEncoder</label><div class=\"sk-toggleable__content\"><pre>OneHotEncoder()</pre></div></div></div></div></div></div><div class=\"sk-parallel-item\"><div class=\"sk-item\"><div class=\"sk-label-container\"><div class=\"sk-label sk-toggleable\"><input class=\"sk-toggleable__control sk-hidden--visually\" id=\"sk-estimator-id-2819\" type=\"checkbox\" ><label for=\"sk-estimator-id-2819\" class=\"sk-toggleable__label sk-toggleable__label-arrow\">power_DURATION</label><div class=\"sk-toggleable__content\"><pre>[&#x27;DURATION&#x27;]</pre></div></div></div><div class=\"sk-serial\"><div class=\"sk-item\"><div class=\"sk-estimator sk-toggleable\"><input class=\"sk-toggleable__control sk-hidden--visually\" id=\"sk-estimator-id-2820\" type=\"checkbox\" ><label for=\"sk-estimator-id-2820\" class=\"sk-toggleable__label sk-toggleable__label-arrow\">PowerTransformer</label><div class=\"sk-toggleable__content\"><pre>PowerTransformer()</pre></div></div></div></div></div></div><div class=\"sk-parallel-item\"><div class=\"sk-item\"><div class=\"sk-label-container\"><div class=\"sk-label sk-toggleable\"><input class=\"sk-toggleable__control sk-hidden--visually\" id=\"sk-estimator-id-2821\" type=\"checkbox\" ><label for=\"sk-estimator-id-2821\" class=\"sk-toggleable__label sk-toggleable__label-arrow\">onehot_HISTORY</label><div class=\"sk-toggleable__content\"><pre>[&#x27;HISTORY&#x27;]</pre></div></div></div><div class=\"sk-serial\"><div class=\"sk-item\"><div class=\"sk-estimator sk-toggleable\"><input class=\"sk-toggleable__control sk-hidden--visually\" id=\"sk-estimator-id-2822\" type=\"checkbox\" ><label for=\"sk-estimator-id-2822\" class=\"sk-toggleable__label sk-toggleable__label-arrow\">OneHotEncoder</label><div class=\"sk-toggleable__content\"><pre>OneHotEncoder()</pre></div></div></div></div></div></div><div class=\"sk-parallel-item\"><div class=\"sk-item\"><div class=\"sk-label-container\"><div class=\"sk-label sk-toggleable\"><input class=\"sk-toggleable__control sk-hidden--visually\" id=\"sk-estimator-id-2823\" type=\"checkbox\" ><label for=\"sk-estimator-id-2823\" class=\"sk-toggleable__label sk-toggleable__label-arrow\">binary_NEW_CAR</label><div class=\"sk-toggleable__content\"><pre>[&#x27;NEW_CAR&#x27;]</pre></div></div></div><div class=\"sk-serial\"><div class=\"sk-item\"><div class=\"sk-estimator sk-toggleable\"><input class=\"sk-toggleable__control sk-hidden--visually\" id=\"sk-estimator-id-2824\" type=\"checkbox\" ><label for=\"sk-estimator-id-2824\" class=\"sk-toggleable__label sk-toggleable__label-arrow\">MinMaxScaler</label><div class=\"sk-toggleable__content\"><pre>MinMaxScaler()</pre></div></div></div></div></div></div><div class=\"sk-parallel-item\"><div class=\"sk-item\"><div class=\"sk-label-container\"><div class=\"sk-label sk-toggleable\"><input class=\"sk-toggleable__control sk-hidden--visually\" id=\"sk-estimator-id-2825\" type=\"checkbox\" ><label for=\"sk-estimator-id-2825\" class=\"sk-toggleable__label sk-toggleable__label-arrow\">binary_USED_CAR</label><div class=\"sk-toggleable__content\"><pre>[&#x27;USED_CAR&#x27;]</pre></div></div></div><div class=\"sk-serial\"><div class=\"sk-item\"><div class=\"sk-estimator sk-toggleable\"><input class=\"sk-toggleable__control sk-hidden--visually\" id=\"sk-estimator-id-2826\" type=\"checkbox\" ><label for=\"sk-estimator-id-2826\" class=\"sk-toggleable__label sk-toggleable__label-arrow\">MinMaxScaler</label><div class=\"sk-toggleable__content\"><pre>MinMaxScaler()</pre></div></div></div></div></div></div><div class=\"sk-parallel-item\"><div class=\"sk-item\"><div class=\"sk-label-container\"><div class=\"sk-label sk-toggleable\"><input class=\"sk-toggleable__control sk-hidden--visually\" id=\"sk-estimator-id-2827\" type=\"checkbox\" ><label for=\"sk-estimator-id-2827\" class=\"sk-toggleable__label sk-toggleable__label-arrow\">binary_FURNITURE</label><div class=\"sk-toggleable__content\"><pre>[&#x27;FURNITURE&#x27;]</pre></div></div></div><div class=\"sk-serial\"><div class=\"sk-item\"><div class=\"sk-estimator sk-toggleable\"><input class=\"sk-toggleable__control sk-hidden--visually\" id=\"sk-estimator-id-2828\" type=\"checkbox\" ><label for=\"sk-estimator-id-2828\" class=\"sk-toggleable__label sk-toggleable__label-arrow\">MinMaxScaler</label><div class=\"sk-toggleable__content\"><pre>MinMaxScaler()</pre></div></div></div></div></div></div><div class=\"sk-parallel-item\"><div class=\"sk-item\"><div class=\"sk-label-container\"><div class=\"sk-label sk-toggleable\"><input class=\"sk-toggleable__control sk-hidden--visually\" id=\"sk-estimator-id-2829\" type=\"checkbox\" ><label for=\"sk-estimator-id-2829\" class=\"sk-toggleable__label sk-toggleable__label-arrow\">binary_RADIO/TV</label><div class=\"sk-toggleable__content\"><pre>[&#x27;RADIO/TV&#x27;]</pre></div></div></div><div class=\"sk-serial\"><div class=\"sk-item\"><div class=\"sk-estimator sk-toggleable\"><input class=\"sk-toggleable__control sk-hidden--visually\" id=\"sk-estimator-id-2830\" type=\"checkbox\" ><label for=\"sk-estimator-id-2830\" class=\"sk-toggleable__label sk-toggleable__label-arrow\">MinMaxScaler</label><div class=\"sk-toggleable__content\"><pre>MinMaxScaler()</pre></div></div></div></div></div></div><div class=\"sk-parallel-item\"><div class=\"sk-item\"><div class=\"sk-label-container\"><div class=\"sk-label sk-toggleable\"><input class=\"sk-toggleable__control sk-hidden--visually\" id=\"sk-estimator-id-2831\" type=\"checkbox\" ><label for=\"sk-estimator-id-2831\" class=\"sk-toggleable__label sk-toggleable__label-arrow\">binary_EDUCATION</label><div class=\"sk-toggleable__content\"><pre>[&#x27;EDUCATION&#x27;]</pre></div></div></div><div class=\"sk-serial\"><div class=\"sk-item\"><div class=\"sk-estimator sk-toggleable\"><input class=\"sk-toggleable__control sk-hidden--visually\" id=\"sk-estimator-id-2832\" type=\"checkbox\" ><label for=\"sk-estimator-id-2832\" class=\"sk-toggleable__label sk-toggleable__label-arrow\">MinMaxScaler</label><div class=\"sk-toggleable__content\"><pre>MinMaxScaler()</pre></div></div></div></div></div></div><div class=\"sk-parallel-item\"><div class=\"sk-item\"><div class=\"sk-label-container\"><div class=\"sk-label sk-toggleable\"><input class=\"sk-toggleable__control sk-hidden--visually\" id=\"sk-estimator-id-2833\" type=\"checkbox\" ><label for=\"sk-estimator-id-2833\" class=\"sk-toggleable__label sk-toggleable__label-arrow\">binary_RETRAINING</label><div class=\"sk-toggleable__content\"><pre>[&#x27;RETRAINING&#x27;]</pre></div></div></div><div class=\"sk-serial\"><div class=\"sk-item\"><div class=\"sk-estimator sk-toggleable\"><input class=\"sk-toggleable__control sk-hidden--visually\" id=\"sk-estimator-id-2834\" type=\"checkbox\" ><label for=\"sk-estimator-id-2834\" class=\"sk-toggleable__label sk-toggleable__label-arrow\">MinMaxScaler</label><div class=\"sk-toggleable__content\"><pre>MinMaxScaler()</pre></div></div></div></div></div></div><div class=\"sk-parallel-item\"><div class=\"sk-item\"><div class=\"sk-label-container\"><div class=\"sk-label sk-toggleable\"><input class=\"sk-toggleable__control sk-hidden--visually\" id=\"sk-estimator-id-2835\" type=\"checkbox\" ><label for=\"sk-estimator-id-2835\" class=\"sk-toggleable__label sk-toggleable__label-arrow\">onehot_SAV_ACCT</label><div class=\"sk-toggleable__content\"><pre>[&#x27;SAV_ACCT&#x27;]</pre></div></div></div><div class=\"sk-serial\"><div class=\"sk-item\"><div class=\"sk-estimator sk-toggleable\"><input class=\"sk-toggleable__control sk-hidden--visually\" id=\"sk-estimator-id-2836\" type=\"checkbox\" ><label for=\"sk-estimator-id-2836\" class=\"sk-toggleable__label sk-toggleable__label-arrow\">OneHotEncoder</label><div class=\"sk-toggleable__content\"><pre>OneHotEncoder()</pre></div></div></div></div></div></div><div class=\"sk-parallel-item\"><div class=\"sk-item\"><div class=\"sk-label-container\"><div class=\"sk-label sk-toggleable\"><input class=\"sk-toggleable__control sk-hidden--visually\" id=\"sk-estimator-id-2837\" type=\"checkbox\" ><label for=\"sk-estimator-id-2837\" class=\"sk-toggleable__label sk-toggleable__label-arrow\">onehot_EMPLOYMENT</label><div class=\"sk-toggleable__content\"><pre>[&#x27;EMPLOYMENT&#x27;]</pre></div></div></div><div class=\"sk-serial\"><div class=\"sk-item\"><div class=\"sk-estimator sk-toggleable\"><input class=\"sk-toggleable__control sk-hidden--visually\" id=\"sk-estimator-id-2838\" type=\"checkbox\" ><label for=\"sk-estimator-id-2838\" class=\"sk-toggleable__label sk-toggleable__label-arrow\">OneHotEncoder</label><div class=\"sk-toggleable__content\"><pre>OneHotEncoder()</pre></div></div></div></div></div></div><div class=\"sk-parallel-item\"><div class=\"sk-item\"><div class=\"sk-label-container\"><div class=\"sk-label sk-toggleable\"><input class=\"sk-toggleable__control sk-hidden--visually\" id=\"sk-estimator-id-2839\" type=\"checkbox\" ><label for=\"sk-estimator-id-2839\" class=\"sk-toggleable__label sk-toggleable__label-arrow\">power_INSTALL_RATE</label><div class=\"sk-toggleable__content\"><pre>[&#x27;INSTALL_RATE&#x27;]</pre></div></div></div><div class=\"sk-serial\"><div class=\"sk-item\"><div class=\"sk-estimator sk-toggleable\"><input class=\"sk-toggleable__control sk-hidden--visually\" id=\"sk-estimator-id-2840\" type=\"checkbox\" ><label for=\"sk-estimator-id-2840\" class=\"sk-toggleable__label sk-toggleable__label-arrow\">PowerTransformer</label><div class=\"sk-toggleable__content\"><pre>PowerTransformer()</pre></div></div></div></div></div></div><div class=\"sk-parallel-item\"><div class=\"sk-item\"><div class=\"sk-label-container\"><div class=\"sk-label sk-toggleable\"><input class=\"sk-toggleable__control sk-hidden--visually\" id=\"sk-estimator-id-2841\" type=\"checkbox\" ><label for=\"sk-estimator-id-2841\" class=\"sk-toggleable__label sk-toggleable__label-arrow\">binary_MALE_DIV</label><div class=\"sk-toggleable__content\"><pre>[&#x27;MALE_DIV&#x27;]</pre></div></div></div><div class=\"sk-serial\"><div class=\"sk-item\"><div class=\"sk-estimator sk-toggleable\"><input class=\"sk-toggleable__control sk-hidden--visually\" id=\"sk-estimator-id-2842\" type=\"checkbox\" ><label for=\"sk-estimator-id-2842\" class=\"sk-toggleable__label sk-toggleable__label-arrow\">MinMaxScaler</label><div class=\"sk-toggleable__content\"><pre>MinMaxScaler()</pre></div></div></div></div></div></div><div class=\"sk-parallel-item\"><div class=\"sk-item\"><div class=\"sk-label-container\"><div class=\"sk-label sk-toggleable\"><input class=\"sk-toggleable__control sk-hidden--visually\" id=\"sk-estimator-id-2843\" type=\"checkbox\" ><label for=\"sk-estimator-id-2843\" class=\"sk-toggleable__label sk-toggleable__label-arrow\">binary_MALE_SINGLE</label><div class=\"sk-toggleable__content\"><pre>[&#x27;MALE_SINGLE&#x27;]</pre></div></div></div><div class=\"sk-serial\"><div class=\"sk-item\"><div class=\"sk-estimator sk-toggleable\"><input class=\"sk-toggleable__control sk-hidden--visually\" id=\"sk-estimator-id-2844\" type=\"checkbox\" ><label for=\"sk-estimator-id-2844\" class=\"sk-toggleable__label sk-toggleable__label-arrow\">MinMaxScaler</label><div class=\"sk-toggleable__content\"><pre>MinMaxScaler()</pre></div></div></div></div></div></div><div class=\"sk-parallel-item\"><div class=\"sk-item\"><div class=\"sk-label-container\"><div class=\"sk-label sk-toggleable\"><input class=\"sk-toggleable__control sk-hidden--visually\" id=\"sk-estimator-id-2845\" type=\"checkbox\" ><label for=\"sk-estimator-id-2845\" class=\"sk-toggleable__label sk-toggleable__label-arrow\">binary_MALE_MAR_WID</label><div class=\"sk-toggleable__content\"><pre>[&#x27;MALE_MAR_WID&#x27;]</pre></div></div></div><div class=\"sk-serial\"><div class=\"sk-item\"><div class=\"sk-estimator sk-toggleable\"><input class=\"sk-toggleable__control sk-hidden--visually\" id=\"sk-estimator-id-2846\" type=\"checkbox\" ><label for=\"sk-estimator-id-2846\" class=\"sk-toggleable__label sk-toggleable__label-arrow\">MinMaxScaler</label><div class=\"sk-toggleable__content\"><pre>MinMaxScaler()</pre></div></div></div></div></div></div><div class=\"sk-parallel-item\"><div class=\"sk-item\"><div class=\"sk-label-container\"><div class=\"sk-label sk-toggleable\"><input class=\"sk-toggleable__control sk-hidden--visually\" id=\"sk-estimator-id-2847\" type=\"checkbox\" ><label for=\"sk-estimator-id-2847\" class=\"sk-toggleable__label sk-toggleable__label-arrow\">binary_CO-APPLICANT</label><div class=\"sk-toggleable__content\"><pre>[&#x27;CO-APPLICANT&#x27;]</pre></div></div></div><div class=\"sk-serial\"><div class=\"sk-item\"><div class=\"sk-estimator sk-toggleable\"><input class=\"sk-toggleable__control sk-hidden--visually\" id=\"sk-estimator-id-2848\" type=\"checkbox\" ><label for=\"sk-estimator-id-2848\" class=\"sk-toggleable__label sk-toggleable__label-arrow\">MinMaxScaler</label><div class=\"sk-toggleable__content\"><pre>MinMaxScaler()</pre></div></div></div></div></div></div><div class=\"sk-parallel-item\"><div class=\"sk-item\"><div class=\"sk-label-container\"><div class=\"sk-label sk-toggleable\"><input class=\"sk-toggleable__control sk-hidden--visually\" id=\"sk-estimator-id-2849\" type=\"checkbox\" ><label for=\"sk-estimator-id-2849\" class=\"sk-toggleable__label sk-toggleable__label-arrow\">binary_GUARANTOR</label><div class=\"sk-toggleable__content\"><pre>[&#x27;GUARANTOR&#x27;]</pre></div></div></div><div class=\"sk-serial\"><div class=\"sk-item\"><div class=\"sk-estimator sk-toggleable\"><input class=\"sk-toggleable__control sk-hidden--visually\" id=\"sk-estimator-id-2850\" type=\"checkbox\" ><label for=\"sk-estimator-id-2850\" class=\"sk-toggleable__label sk-toggleable__label-arrow\">MinMaxScaler</label><div class=\"sk-toggleable__content\"><pre>MinMaxScaler()</pre></div></div></div></div></div></div><div class=\"sk-parallel-item\"><div class=\"sk-item\"><div class=\"sk-label-container\"><div class=\"sk-label sk-toggleable\"><input class=\"sk-toggleable__control sk-hidden--visually\" id=\"sk-estimator-id-2851\" type=\"checkbox\" ><label for=\"sk-estimator-id-2851\" class=\"sk-toggleable__label sk-toggleable__label-arrow\">onehot_PRESENT_RESIDENT</label><div class=\"sk-toggleable__content\"><pre>[&#x27;PRESENT_RESIDENT&#x27;]</pre></div></div></div><div class=\"sk-serial\"><div class=\"sk-item\"><div class=\"sk-estimator sk-toggleable\"><input class=\"sk-toggleable__control sk-hidden--visually\" id=\"sk-estimator-id-2852\" type=\"checkbox\" ><label for=\"sk-estimator-id-2852\" class=\"sk-toggleable__label sk-toggleable__label-arrow\">OneHotEncoder</label><div class=\"sk-toggleable__content\"><pre>OneHotEncoder()</pre></div></div></div></div></div></div><div class=\"sk-parallel-item\"><div class=\"sk-item\"><div class=\"sk-label-container\"><div class=\"sk-label sk-toggleable\"><input class=\"sk-toggleable__control sk-hidden--visually\" id=\"sk-estimator-id-2853\" type=\"checkbox\" ><label for=\"sk-estimator-id-2853\" class=\"sk-toggleable__label sk-toggleable__label-arrow\">binary_REAL_ESTATE</label><div class=\"sk-toggleable__content\"><pre>[&#x27;REAL_ESTATE&#x27;]</pre></div></div></div><div class=\"sk-serial\"><div class=\"sk-item\"><div class=\"sk-estimator sk-toggleable\"><input class=\"sk-toggleable__control sk-hidden--visually\" id=\"sk-estimator-id-2854\" type=\"checkbox\" ><label for=\"sk-estimator-id-2854\" class=\"sk-toggleable__label sk-toggleable__label-arrow\">MinMaxScaler</label><div class=\"sk-toggleable__content\"><pre>MinMaxScaler()</pre></div></div></div></div></div></div><div class=\"sk-parallel-item\"><div class=\"sk-item\"><div class=\"sk-label-container\"><div class=\"sk-label sk-toggleable\"><input class=\"sk-toggleable__control sk-hidden--visually\" id=\"sk-estimator-id-2855\" type=\"checkbox\" ><label for=\"sk-estimator-id-2855\" class=\"sk-toggleable__label sk-toggleable__label-arrow\">binary_PROP_UNKN_NONE</label><div class=\"sk-toggleable__content\"><pre>[&#x27;PROP_UNKN_NONE&#x27;]</pre></div></div></div><div class=\"sk-serial\"><div class=\"sk-item\"><div class=\"sk-estimator sk-toggleable\"><input class=\"sk-toggleable__control sk-hidden--visually\" id=\"sk-estimator-id-2856\" type=\"checkbox\" ><label for=\"sk-estimator-id-2856\" class=\"sk-toggleable__label sk-toggleable__label-arrow\">MinMaxScaler</label><div class=\"sk-toggleable__content\"><pre>MinMaxScaler()</pre></div></div></div></div></div></div><div class=\"sk-parallel-item\"><div class=\"sk-item\"><div class=\"sk-label-container\"><div class=\"sk-label sk-toggleable\"><input class=\"sk-toggleable__control sk-hidden--visually\" id=\"sk-estimator-id-2857\" type=\"checkbox\" ><label for=\"sk-estimator-id-2857\" class=\"sk-toggleable__label sk-toggleable__label-arrow\">power_AGE</label><div class=\"sk-toggleable__content\"><pre>[&#x27;AGE&#x27;]</pre></div></div></div><div class=\"sk-serial\"><div class=\"sk-item\"><div class=\"sk-estimator sk-toggleable\"><input class=\"sk-toggleable__control sk-hidden--visually\" id=\"sk-estimator-id-2858\" type=\"checkbox\" ><label for=\"sk-estimator-id-2858\" class=\"sk-toggleable__label sk-toggleable__label-arrow\">PowerTransformer</label><div class=\"sk-toggleable__content\"><pre>PowerTransformer()</pre></div></div></div></div></div></div><div class=\"sk-parallel-item\"><div class=\"sk-item\"><div class=\"sk-label-container\"><div class=\"sk-label sk-toggleable\"><input class=\"sk-toggleable__control sk-hidden--visually\" id=\"sk-estimator-id-2859\" type=\"checkbox\" ><label for=\"sk-estimator-id-2859\" class=\"sk-toggleable__label sk-toggleable__label-arrow\">binary_OTHER_INSTALL</label><div class=\"sk-toggleable__content\"><pre>[&#x27;OTHER_INSTALL&#x27;]</pre></div></div></div><div class=\"sk-serial\"><div class=\"sk-item\"><div class=\"sk-estimator sk-toggleable\"><input class=\"sk-toggleable__control sk-hidden--visually\" id=\"sk-estimator-id-2860\" type=\"checkbox\" ><label for=\"sk-estimator-id-2860\" class=\"sk-toggleable__label sk-toggleable__label-arrow\">MinMaxScaler</label><div class=\"sk-toggleable__content\"><pre>MinMaxScaler()</pre></div></div></div></div></div></div><div class=\"sk-parallel-item\"><div class=\"sk-item\"><div class=\"sk-label-container\"><div class=\"sk-label sk-toggleable\"><input class=\"sk-toggleable__control sk-hidden--visually\" id=\"sk-estimator-id-2861\" type=\"checkbox\" ><label for=\"sk-estimator-id-2861\" class=\"sk-toggleable__label sk-toggleable__label-arrow\">binary_RENT</label><div class=\"sk-toggleable__content\"><pre>[&#x27;RENT&#x27;]</pre></div></div></div><div class=\"sk-serial\"><div class=\"sk-item\"><div class=\"sk-estimator sk-toggleable\"><input class=\"sk-toggleable__control sk-hidden--visually\" id=\"sk-estimator-id-2862\" type=\"checkbox\" ><label for=\"sk-estimator-id-2862\" class=\"sk-toggleable__label sk-toggleable__label-arrow\">MinMaxScaler</label><div class=\"sk-toggleable__content\"><pre>MinMaxScaler()</pre></div></div></div></div></div></div><div class=\"sk-parallel-item\"><div class=\"sk-item\"><div class=\"sk-label-container\"><div class=\"sk-label sk-toggleable\"><input class=\"sk-toggleable__control sk-hidden--visually\" id=\"sk-estimator-id-2863\" type=\"checkbox\" ><label for=\"sk-estimator-id-2863\" class=\"sk-toggleable__label sk-toggleable__label-arrow\">binary_OWN_RES</label><div class=\"sk-toggleable__content\"><pre>[&#x27;OWN_RES&#x27;]</pre></div></div></div><div class=\"sk-serial\"><div class=\"sk-item\"><div class=\"sk-estimator sk-toggleable\"><input class=\"sk-toggleable__control sk-hidden--visually\" id=\"sk-estimator-id-2864\" type=\"checkbox\" ><label for=\"sk-estimator-id-2864\" class=\"sk-toggleable__label sk-toggleable__label-arrow\">MinMaxScaler</label><div class=\"sk-toggleable__content\"><pre>MinMaxScaler()</pre></div></div></div></div></div></div><div class=\"sk-parallel-item\"><div class=\"sk-item\"><div class=\"sk-label-container\"><div class=\"sk-label sk-toggleable\"><input class=\"sk-toggleable__control sk-hidden--visually\" id=\"sk-estimator-id-2865\" type=\"checkbox\" ><label for=\"sk-estimator-id-2865\" class=\"sk-toggleable__label sk-toggleable__label-arrow\">power_NUM_CREDITS</label><div class=\"sk-toggleable__content\"><pre>[&#x27;NUM_CREDITS&#x27;]</pre></div></div></div><div class=\"sk-serial\"><div class=\"sk-item\"><div class=\"sk-estimator sk-toggleable\"><input class=\"sk-toggleable__control sk-hidden--visually\" id=\"sk-estimator-id-2866\" type=\"checkbox\" ><label for=\"sk-estimator-id-2866\" class=\"sk-toggleable__label sk-toggleable__label-arrow\">PowerTransformer</label><div class=\"sk-toggleable__content\"><pre>PowerTransformer()</pre></div></div></div></div></div></div><div class=\"sk-parallel-item\"><div class=\"sk-item\"><div class=\"sk-label-container\"><div class=\"sk-label sk-toggleable\"><input class=\"sk-toggleable__control sk-hidden--visually\" id=\"sk-estimator-id-2867\" type=\"checkbox\" ><label for=\"sk-estimator-id-2867\" class=\"sk-toggleable__label sk-toggleable__label-arrow\">onehot_JOB</label><div class=\"sk-toggleable__content\"><pre>[&#x27;JOB&#x27;]</pre></div></div></div><div class=\"sk-serial\"><div class=\"sk-item\"><div class=\"sk-estimator sk-toggleable\"><input class=\"sk-toggleable__control sk-hidden--visually\" id=\"sk-estimator-id-2868\" type=\"checkbox\" ><label for=\"sk-estimator-id-2868\" class=\"sk-toggleable__label sk-toggleable__label-arrow\">OneHotEncoder</label><div class=\"sk-toggleable__content\"><pre>OneHotEncoder()</pre></div></div></div></div></div></div><div class=\"sk-parallel-item\"><div class=\"sk-item\"><div class=\"sk-label-container\"><div class=\"sk-label sk-toggleable\"><input class=\"sk-toggleable__control sk-hidden--visually\" id=\"sk-estimator-id-2869\" type=\"checkbox\" ><label for=\"sk-estimator-id-2869\" class=\"sk-toggleable__label sk-toggleable__label-arrow\">power_NUM_DEPENDENTS</label><div class=\"sk-toggleable__content\"><pre>[&#x27;NUM_DEPENDENTS&#x27;]</pre></div></div></div><div class=\"sk-serial\"><div class=\"sk-item\"><div class=\"sk-estimator sk-toggleable\"><input class=\"sk-toggleable__control sk-hidden--visually\" id=\"sk-estimator-id-2870\" type=\"checkbox\" ><label for=\"sk-estimator-id-2870\" class=\"sk-toggleable__label sk-toggleable__label-arrow\">PowerTransformer</label><div class=\"sk-toggleable__content\"><pre>PowerTransformer()</pre></div></div></div></div></div></div><div class=\"sk-parallel-item\"><div class=\"sk-item\"><div class=\"sk-label-container\"><div class=\"sk-label sk-toggleable\"><input class=\"sk-toggleable__control sk-hidden--visually\" id=\"sk-estimator-id-2871\" type=\"checkbox\" ><label for=\"sk-estimator-id-2871\" class=\"sk-toggleable__label sk-toggleable__label-arrow\">binary_TELEPHONE</label><div class=\"sk-toggleable__content\"><pre>[&#x27;TELEPHONE&#x27;]</pre></div></div></div><div class=\"sk-serial\"><div class=\"sk-item\"><div class=\"sk-estimator sk-toggleable\"><input class=\"sk-toggleable__control sk-hidden--visually\" id=\"sk-estimator-id-2872\" type=\"checkbox\" ><label for=\"sk-estimator-id-2872\" class=\"sk-toggleable__label sk-toggleable__label-arrow\">MinMaxScaler</label><div class=\"sk-toggleable__content\"><pre>MinMaxScaler()</pre></div></div></div></div></div></div><div class=\"sk-parallel-item\"><div class=\"sk-item\"><div class=\"sk-label-container\"><div class=\"sk-label sk-toggleable\"><input class=\"sk-toggleable__control sk-hidden--visually\" id=\"sk-estimator-id-2873\" type=\"checkbox\" ><label for=\"sk-estimator-id-2873\" class=\"sk-toggleable__label sk-toggleable__label-arrow\">binary_FOREIGN</label><div class=\"sk-toggleable__content\"><pre>[&#x27;FOREIGN&#x27;]</pre></div></div></div><div class=\"sk-serial\"><div class=\"sk-item\"><div class=\"sk-estimator sk-toggleable\"><input class=\"sk-toggleable__control sk-hidden--visually\" id=\"sk-estimator-id-2874\" type=\"checkbox\" ><label for=\"sk-estimator-id-2874\" class=\"sk-toggleable__label sk-toggleable__label-arrow\">MinMaxScaler</label><div class=\"sk-toggleable__content\"><pre>MinMaxScaler()</pre></div></div></div></div></div></div><div class=\"sk-parallel-item\"><div class=\"sk-item\"><div class=\"sk-label-container\"><div class=\"sk-label sk-toggleable\"><input class=\"sk-toggleable__control sk-hidden--visually\" id=\"sk-estimator-id-2875\" type=\"checkbox\" ><label for=\"sk-estimator-id-2875\" class=\"sk-toggleable__label sk-toggleable__label-arrow\">scaler_AMOUNT</label><div class=\"sk-toggleable__content\"><pre>[&#x27;AMOUNT&#x27;]</pre></div></div></div><div class=\"sk-serial\"><div class=\"sk-item\"><div class=\"sk-estimator sk-toggleable\"><input class=\"sk-toggleable__control sk-hidden--visually\" id=\"sk-estimator-id-2876\" type=\"checkbox\" ><label for=\"sk-estimator-id-2876\" class=\"sk-toggleable__label sk-toggleable__label-arrow\">RobustScaler</label><div class=\"sk-toggleable__content\"><pre>RobustScaler()</pre></div></div></div></div></div></div></div></div></div></div><div class=\"sk-item\"><div class=\"sk-estimator sk-toggleable\"><input class=\"sk-toggleable__control sk-hidden--visually\" id=\"sk-estimator-id-2877\" type=\"checkbox\" ><label for=\"sk-estimator-id-2877\" class=\"sk-toggleable__label sk-toggleable__label-arrow\">LogisticRegression</label><div class=\"sk-toggleable__content\"><pre>LogisticRegression(penalty=&#x27;elasticnet&#x27;, solver=&#x27;saga&#x27;)</pre></div></div></div></div></div></div></div>"
      ],
      "text/plain": [
       "Pipeline(steps=[('feature_transformer',\n",
       "                 Pipeline(steps=[('transforms',\n",
       "                                  ColumnTransformer(transformers=[('onehot_CHK_ACCT',\n",
       "                                                                   OneHotEncoder(),\n",
       "                                                                   ['CHK_ACCT']),\n",
       "                                                                  ('power_DURATION',\n",
       "                                                                   PowerTransformer(),\n",
       "                                                                   ['DURATION']),\n",
       "                                                                  ('onehot_HISTORY',\n",
       "                                                                   OneHotEncoder(),\n",
       "                                                                   ['HISTORY']),\n",
       "                                                                  ('binary_NEW_CAR',\n",
       "                                                                   MinMaxScaler(),\n",
       "                                                                   ['NEW_CAR']),\n",
       "                                                                  ('binary_USED_CAR',\n",
       "                                                                   MinMaxScaler(),\n",
       "                                                                   ['USED_CAR']),\n",
       "                                                                  ('binary...\n",
       "                                                                  ('onehot_JOB',\n",
       "                                                                   OneHotEncoder(),\n",
       "                                                                   ['JOB']),\n",
       "                                                                  ('power_NUM_DEPENDENTS',\n",
       "                                                                   PowerTransformer(),\n",
       "                                                                   ['NUM_DEPENDENTS']),\n",
       "                                                                  ('binary_TELEPHONE',\n",
       "                                                                   MinMaxScaler(),\n",
       "                                                                   ['TELEPHONE']),\n",
       "                                                                  ('binary_FOREIGN',\n",
       "                                                                   MinMaxScaler(),\n",
       "                                                                   ['FOREIGN']),\n",
       "                                                                  ('scaler_AMOUNT',\n",
       "                                                                   RobustScaler(),\n",
       "                                                                   ['AMOUNT'])],\n",
       "                                                    verbose_feature_names_out=False))])),\n",
       "                ('logistic_regression',\n",
       "                 LogisticRegression(penalty='elasticnet', solver='saga'))])"
      ]
     },
     "execution_count": 327,
     "metadata": {},
     "output_type": "execute_result"
    }
   ],
   "source": [
    "logistic_model"
   ]
  },
  {
   "cell_type": "code",
   "execution_count": 402,
   "id": "4e07df01-d6f4-4397-a8d4-1340ecfa5b93",
   "metadata": {},
   "outputs": [],
   "source": [
    "log_loss_scorer = make_scorer(log_loss,greater_is_better=False,needs_proba=True)\n",
    "auc_scorer = make_scorer(roc_auc_score,greater_is_better=True,needs_proba=True)"
   ]
  },
  {
   "cell_type": "code",
   "execution_count": 403,
   "id": "f64d863f-2a98-4daf-9a41-911043578f6c",
   "metadata": {},
   "outputs": [],
   "source": [
    "skf = StratifiedKFold(n_splits=10,shuffle=True, random_state= 10)\n",
    "logistic_model_cv = GridSearchCV(logistic_model,\n",
    "                                 param_grid = {'logistic_regression__C': np.logspace(-4,4,10), 'logistic_regression__l1_ratio': np.linspace(0,1,10)},\n",
    "                                 verbose=True,\n",
    "                                 \n",
    "                                 scoring= ['neg_log_loss', 'roc_auc'],\n",
    "                                 cv= skf,\n",
    "                                 refit = 'neg_log_loss',\n",
    "                                 n_jobs = -1\n",
    "                                 )"
   ]
  },
  {
   "cell_type": "code",
   "execution_count": 404,
   "id": "c0a68bfa-5d68-4d3c-86df-2aded307dc90",
   "metadata": {},
   "outputs": [
    {
     "name": "stdout",
     "output_type": "stream",
     "text": [
      "Fitting 10 folds for each of 100 candidates, totalling 1000 fits\n"
     ]
    },
    {
     "name": "stderr",
     "output_type": "stream",
     "text": [
      "C:\\Users\\cassi\\Anaconda3\\envs\\python3.10\\lib\\site-packages\\sklearn\\utils\\validation.py:1111: DataConversionWarning: A column-vector y was passed when a 1d array was expected. Please change the shape of y to (n_samples, ), for example using ravel().\n",
      "  y = column_or_1d(y, warn=True)\n",
      "C:\\Users\\cassi\\Anaconda3\\envs\\python3.10\\lib\\site-packages\\sklearn\\linear_model\\_sag.py:350: ConvergenceWarning: The max_iter was reached which means the coef_ did not converge\n",
      "  warnings.warn(\n"
     ]
    },
    {
     "data": {
      "text/html": [
       "<style>#sk-container-id-85 {color: black;background-color: white;}#sk-container-id-85 pre{padding: 0;}#sk-container-id-85 div.sk-toggleable {background-color: white;}#sk-container-id-85 label.sk-toggleable__label {cursor: pointer;display: block;width: 100%;margin-bottom: 0;padding: 0.3em;box-sizing: border-box;text-align: center;}#sk-container-id-85 label.sk-toggleable__label-arrow:before {content: \"▸\";float: left;margin-right: 0.25em;color: #696969;}#sk-container-id-85 label.sk-toggleable__label-arrow:hover:before {color: black;}#sk-container-id-85 div.sk-estimator:hover label.sk-toggleable__label-arrow:before {color: black;}#sk-container-id-85 div.sk-toggleable__content {max-height: 0;max-width: 0;overflow: hidden;text-align: left;background-color: #f0f8ff;}#sk-container-id-85 div.sk-toggleable__content pre {margin: 0.2em;color: black;border-radius: 0.25em;background-color: #f0f8ff;}#sk-container-id-85 input.sk-toggleable__control:checked~div.sk-toggleable__content {max-height: 200px;max-width: 100%;overflow: auto;}#sk-container-id-85 input.sk-toggleable__control:checked~label.sk-toggleable__label-arrow:before {content: \"▾\";}#sk-container-id-85 div.sk-estimator input.sk-toggleable__control:checked~label.sk-toggleable__label {background-color: #d4ebff;}#sk-container-id-85 div.sk-label input.sk-toggleable__control:checked~label.sk-toggleable__label {background-color: #d4ebff;}#sk-container-id-85 input.sk-hidden--visually {border: 0;clip: rect(1px 1px 1px 1px);clip: rect(1px, 1px, 1px, 1px);height: 1px;margin: -1px;overflow: hidden;padding: 0;position: absolute;width: 1px;}#sk-container-id-85 div.sk-estimator {font-family: monospace;background-color: #f0f8ff;border: 1px dotted black;border-radius: 0.25em;box-sizing: border-box;margin-bottom: 0.5em;}#sk-container-id-85 div.sk-estimator:hover {background-color: #d4ebff;}#sk-container-id-85 div.sk-parallel-item::after {content: \"\";width: 100%;border-bottom: 1px solid gray;flex-grow: 1;}#sk-container-id-85 div.sk-label:hover label.sk-toggleable__label {background-color: #d4ebff;}#sk-container-id-85 div.sk-serial::before {content: \"\";position: absolute;border-left: 1px solid gray;box-sizing: border-box;top: 0;bottom: 0;left: 50%;z-index: 0;}#sk-container-id-85 div.sk-serial {display: flex;flex-direction: column;align-items: center;background-color: white;padding-right: 0.2em;padding-left: 0.2em;position: relative;}#sk-container-id-85 div.sk-item {position: relative;z-index: 1;}#sk-container-id-85 div.sk-parallel {display: flex;align-items: stretch;justify-content: center;background-color: white;position: relative;}#sk-container-id-85 div.sk-item::before, #sk-container-id-85 div.sk-parallel-item::before {content: \"\";position: absolute;border-left: 1px solid gray;box-sizing: border-box;top: 0;bottom: 0;left: 50%;z-index: -1;}#sk-container-id-85 div.sk-parallel-item {display: flex;flex-direction: column;z-index: 1;position: relative;background-color: white;}#sk-container-id-85 div.sk-parallel-item:first-child::after {align-self: flex-end;width: 50%;}#sk-container-id-85 div.sk-parallel-item:last-child::after {align-self: flex-start;width: 50%;}#sk-container-id-85 div.sk-parallel-item:only-child::after {width: 0;}#sk-container-id-85 div.sk-dashed-wrapped {border: 1px dashed gray;margin: 0 0.4em 0.5em 0.4em;box-sizing: border-box;padding-bottom: 0.4em;background-color: white;}#sk-container-id-85 div.sk-label label {font-family: monospace;font-weight: bold;display: inline-block;line-height: 1.2em;}#sk-container-id-85 div.sk-label-container {text-align: center;}#sk-container-id-85 div.sk-container {/* jupyter's `normalize.less` sets `[hidden] { display: none; }` but bootstrap.min.css set `[hidden] { display: none !important; }` so we also need the `!important` here to be able to override the default hidden behavior on the sphinx rendered scikit-learn.org. See: https://github.com/scikit-learn/scikit-learn/issues/21755 */display: inline-block !important;position: relative;}#sk-container-id-85 div.sk-text-repr-fallback {display: none;}</style><div id=\"sk-container-id-85\" class=\"sk-top-container\"><div class=\"sk-text-repr-fallback\"><pre>GridSearchCV(cv=StratifiedKFold(n_splits=10, random_state=10, shuffle=True),\n",
       "             estimator=Pipeline(steps=[(&#x27;feature_transformer&#x27;,\n",
       "                                        Pipeline(steps=[(&#x27;transforms&#x27;,\n",
       "                                                         ColumnTransformer(transformers=[(&#x27;onehot_CHK_ACCT&#x27;,\n",
       "                                                                                          OneHotEncoder(),\n",
       "                                                                                          [&#x27;CHK_ACCT&#x27;]),\n",
       "                                                                                         (&#x27;power_DURATION&#x27;,\n",
       "                                                                                          PowerTransformer(),\n",
       "                                                                                          [&#x27;DURATION&#x27;]),\n",
       "                                                                                         (&#x27;onehot_HISTORY&#x27;,\n",
       "                                                                                          OneHotEncoder(),\n",
       "                                                                                          [&#x27;HISTORY&#x27;]),\n",
       "                                                                                         (&#x27;binary_NEW_CAR&#x27;,...\n",
       "             param_grid={&#x27;logistic_regression__C&#x27;: array([1.00000000e-04, 7.74263683e-04, 5.99484250e-03, 4.64158883e-02,\n",
       "       3.59381366e-01, 2.78255940e+00, 2.15443469e+01, 1.66810054e+02,\n",
       "       1.29154967e+03, 1.00000000e+04]),\n",
       "                         &#x27;logistic_regression__l1_ratio&#x27;: array([0.        , 0.11111111, 0.22222222, 0.33333333, 0.44444444,\n",
       "       0.55555556, 0.66666667, 0.77777778, 0.88888889, 1.        ])},\n",
       "             refit=&#x27;neg_log_loss&#x27;, scoring=[&#x27;neg_log_loss&#x27;, &#x27;roc_auc&#x27;],\n",
       "             verbose=True)</pre><b>In a Jupyter environment, please rerun this cell to show the HTML representation or trust the notebook. <br />On GitHub, the HTML representation is unable to render, please try loading this page with nbviewer.org.</b></div><div class=\"sk-container\" hidden><div class=\"sk-item sk-dashed-wrapped\"><div class=\"sk-label-container\"><div class=\"sk-label sk-toggleable\"><input class=\"sk-toggleable__control sk-hidden--visually\" id=\"sk-estimator-id-3113\" type=\"checkbox\" ><label for=\"sk-estimator-id-3113\" class=\"sk-toggleable__label sk-toggleable__label-arrow\">GridSearchCV</label><div class=\"sk-toggleable__content\"><pre>GridSearchCV(cv=StratifiedKFold(n_splits=10, random_state=10, shuffle=True),\n",
       "             estimator=Pipeline(steps=[(&#x27;feature_transformer&#x27;,\n",
       "                                        Pipeline(steps=[(&#x27;transforms&#x27;,\n",
       "                                                         ColumnTransformer(transformers=[(&#x27;onehot_CHK_ACCT&#x27;,\n",
       "                                                                                          OneHotEncoder(),\n",
       "                                                                                          [&#x27;CHK_ACCT&#x27;]),\n",
       "                                                                                         (&#x27;power_DURATION&#x27;,\n",
       "                                                                                          PowerTransformer(),\n",
       "                                                                                          [&#x27;DURATION&#x27;]),\n",
       "                                                                                         (&#x27;onehot_HISTORY&#x27;,\n",
       "                                                                                          OneHotEncoder(),\n",
       "                                                                                          [&#x27;HISTORY&#x27;]),\n",
       "                                                                                         (&#x27;binary_NEW_CAR&#x27;,...\n",
       "             param_grid={&#x27;logistic_regression__C&#x27;: array([1.00000000e-04, 7.74263683e-04, 5.99484250e-03, 4.64158883e-02,\n",
       "       3.59381366e-01, 2.78255940e+00, 2.15443469e+01, 1.66810054e+02,\n",
       "       1.29154967e+03, 1.00000000e+04]),\n",
       "                         &#x27;logistic_regression__l1_ratio&#x27;: array([0.        , 0.11111111, 0.22222222, 0.33333333, 0.44444444,\n",
       "       0.55555556, 0.66666667, 0.77777778, 0.88888889, 1.        ])},\n",
       "             refit=&#x27;neg_log_loss&#x27;, scoring=[&#x27;neg_log_loss&#x27;, &#x27;roc_auc&#x27;],\n",
       "             verbose=True)</pre></div></div></div><div class=\"sk-parallel\"><div class=\"sk-parallel-item\"><div class=\"sk-item\"><div class=\"sk-label-container\"><div class=\"sk-label sk-toggleable\"><input class=\"sk-toggleable__control sk-hidden--visually\" id=\"sk-estimator-id-3114\" type=\"checkbox\" ><label for=\"sk-estimator-id-3114\" class=\"sk-toggleable__label sk-toggleable__label-arrow\">estimator: Pipeline</label><div class=\"sk-toggleable__content\"><pre>Pipeline(steps=[(&#x27;feature_transformer&#x27;,\n",
       "                 Pipeline(steps=[(&#x27;transforms&#x27;,\n",
       "                                  ColumnTransformer(transformers=[(&#x27;onehot_CHK_ACCT&#x27;,\n",
       "                                                                   OneHotEncoder(),\n",
       "                                                                   [&#x27;CHK_ACCT&#x27;]),\n",
       "                                                                  (&#x27;power_DURATION&#x27;,\n",
       "                                                                   PowerTransformer(),\n",
       "                                                                   [&#x27;DURATION&#x27;]),\n",
       "                                                                  (&#x27;onehot_HISTORY&#x27;,\n",
       "                                                                   OneHotEncoder(),\n",
       "                                                                   [&#x27;HISTORY&#x27;]),\n",
       "                                                                  (&#x27;binary_NEW_CAR&#x27;,\n",
       "                                                                   MinMaxScaler(),\n",
       "                                                                   [&#x27;NEW_CAR&#x27;]),\n",
       "                                                                  (&#x27;binary_USED_CAR&#x27;,\n",
       "                                                                   MinMaxScaler(),\n",
       "                                                                   [&#x27;USED_CAR&#x27;]),\n",
       "                                                                  (&#x27;binary...\n",
       "                                                                  (&#x27;onehot_JOB&#x27;,\n",
       "                                                                   OneHotEncoder(),\n",
       "                                                                   [&#x27;JOB&#x27;]),\n",
       "                                                                  (&#x27;power_NUM_DEPENDENTS&#x27;,\n",
       "                                                                   PowerTransformer(),\n",
       "                                                                   [&#x27;NUM_DEPENDENTS&#x27;]),\n",
       "                                                                  (&#x27;binary_TELEPHONE&#x27;,\n",
       "                                                                   MinMaxScaler(),\n",
       "                                                                   [&#x27;TELEPHONE&#x27;]),\n",
       "                                                                  (&#x27;binary_FOREIGN&#x27;,\n",
       "                                                                   MinMaxScaler(),\n",
       "                                                                   [&#x27;FOREIGN&#x27;]),\n",
       "                                                                  (&#x27;scaler_AMOUNT&#x27;,\n",
       "                                                                   RobustScaler(),\n",
       "                                                                   [&#x27;AMOUNT&#x27;])],\n",
       "                                                    verbose_feature_names_out=False))])),\n",
       "                (&#x27;logistic_regression&#x27;,\n",
       "                 LogisticRegression(penalty=&#x27;elasticnet&#x27;, solver=&#x27;saga&#x27;))])</pre></div></div></div><div class=\"sk-serial\"><div class=\"sk-item\"><div class=\"sk-serial\"><div class=\"sk-item\"><div class=\"sk-label-container\"><div class=\"sk-label sk-toggleable\"><input class=\"sk-toggleable__control sk-hidden--visually\" id=\"sk-estimator-id-3115\" type=\"checkbox\" ><label for=\"sk-estimator-id-3115\" class=\"sk-toggleable__label sk-toggleable__label-arrow\">feature_transformer: Pipeline</label><div class=\"sk-toggleable__content\"><pre>Pipeline(steps=[(&#x27;transforms&#x27;,\n",
       "                 ColumnTransformer(transformers=[(&#x27;onehot_CHK_ACCT&#x27;,\n",
       "                                                  OneHotEncoder(),\n",
       "                                                  [&#x27;CHK_ACCT&#x27;]),\n",
       "                                                 (&#x27;power_DURATION&#x27;,\n",
       "                                                  PowerTransformer(),\n",
       "                                                  [&#x27;DURATION&#x27;]),\n",
       "                                                 (&#x27;onehot_HISTORY&#x27;,\n",
       "                                                  OneHotEncoder(),\n",
       "                                                  [&#x27;HISTORY&#x27;]),\n",
       "                                                 (&#x27;binary_NEW_CAR&#x27;,\n",
       "                                                  MinMaxScaler(), [&#x27;NEW_CAR&#x27;]),\n",
       "                                                 (&#x27;binary_USED_CAR&#x27;,\n",
       "                                                  MinMaxScaler(),\n",
       "                                                  [&#x27;USED_CAR&#x27;]),\n",
       "                                                 (&#x27;binary_FURNITURE&#x27;,\n",
       "                                                  MinMaxScaler(),\n",
       "                                                  [&#x27;FURNITURE&#x27;...\n",
       "                                                  MinMaxScaler(), [&#x27;OWN_RES&#x27;]),\n",
       "                                                 (&#x27;power_NUM_CREDITS&#x27;,\n",
       "                                                  PowerTransformer(),\n",
       "                                                  [&#x27;NUM_CREDITS&#x27;]),\n",
       "                                                 (&#x27;onehot_JOB&#x27;, OneHotEncoder(),\n",
       "                                                  [&#x27;JOB&#x27;]),\n",
       "                                                 (&#x27;power_NUM_DEPENDENTS&#x27;,\n",
       "                                                  PowerTransformer(),\n",
       "                                                  [&#x27;NUM_DEPENDENTS&#x27;]),\n",
       "                                                 (&#x27;binary_TELEPHONE&#x27;,\n",
       "                                                  MinMaxScaler(),\n",
       "                                                  [&#x27;TELEPHONE&#x27;]),\n",
       "                                                 (&#x27;binary_FOREIGN&#x27;,\n",
       "                                                  MinMaxScaler(), [&#x27;FOREIGN&#x27;]),\n",
       "                                                 (&#x27;scaler_AMOUNT&#x27;,\n",
       "                                                  RobustScaler(), [&#x27;AMOUNT&#x27;])],\n",
       "                                   verbose_feature_names_out=False))])</pre></div></div></div><div class=\"sk-serial\"><div class=\"sk-item sk-dashed-wrapped\"><div class=\"sk-label-container\"><div class=\"sk-label sk-toggleable\"><input class=\"sk-toggleable__control sk-hidden--visually\" id=\"sk-estimator-id-3116\" type=\"checkbox\" ><label for=\"sk-estimator-id-3116\" class=\"sk-toggleable__label sk-toggleable__label-arrow\">transforms: ColumnTransformer</label><div class=\"sk-toggleable__content\"><pre>ColumnTransformer(transformers=[(&#x27;onehot_CHK_ACCT&#x27;, OneHotEncoder(),\n",
       "                                 [&#x27;CHK_ACCT&#x27;]),\n",
       "                                (&#x27;power_DURATION&#x27;, PowerTransformer(),\n",
       "                                 [&#x27;DURATION&#x27;]),\n",
       "                                (&#x27;onehot_HISTORY&#x27;, OneHotEncoder(),\n",
       "                                 [&#x27;HISTORY&#x27;]),\n",
       "                                (&#x27;binary_NEW_CAR&#x27;, MinMaxScaler(), [&#x27;NEW_CAR&#x27;]),\n",
       "                                (&#x27;binary_USED_CAR&#x27;, MinMaxScaler(),\n",
       "                                 [&#x27;USED_CAR&#x27;]),\n",
       "                                (&#x27;binary_FURNITURE&#x27;, MinMaxScaler(),\n",
       "                                 [&#x27;FURNITURE&#x27;]),\n",
       "                                (&#x27;binary_RADIO/TV&#x27;, MinMaxSc...\n",
       "                                (&#x27;binary_OWN_RES&#x27;, MinMaxScaler(), [&#x27;OWN_RES&#x27;]),\n",
       "                                (&#x27;power_NUM_CREDITS&#x27;, PowerTransformer(),\n",
       "                                 [&#x27;NUM_CREDITS&#x27;]),\n",
       "                                (&#x27;onehot_JOB&#x27;, OneHotEncoder(), [&#x27;JOB&#x27;]),\n",
       "                                (&#x27;power_NUM_DEPENDENTS&#x27;, PowerTransformer(),\n",
       "                                 [&#x27;NUM_DEPENDENTS&#x27;]),\n",
       "                                (&#x27;binary_TELEPHONE&#x27;, MinMaxScaler(),\n",
       "                                 [&#x27;TELEPHONE&#x27;]),\n",
       "                                (&#x27;binary_FOREIGN&#x27;, MinMaxScaler(), [&#x27;FOREIGN&#x27;]),\n",
       "                                (&#x27;scaler_AMOUNT&#x27;, RobustScaler(), [&#x27;AMOUNT&#x27;])],\n",
       "                  verbose_feature_names_out=False)</pre></div></div></div><div class=\"sk-parallel\"><div class=\"sk-parallel-item\"><div class=\"sk-item\"><div class=\"sk-label-container\"><div class=\"sk-label sk-toggleable\"><input class=\"sk-toggleable__control sk-hidden--visually\" id=\"sk-estimator-id-3117\" type=\"checkbox\" ><label for=\"sk-estimator-id-3117\" class=\"sk-toggleable__label sk-toggleable__label-arrow\">onehot_CHK_ACCT</label><div class=\"sk-toggleable__content\"><pre>[&#x27;CHK_ACCT&#x27;]</pre></div></div></div><div class=\"sk-serial\"><div class=\"sk-item\"><div class=\"sk-estimator sk-toggleable\"><input class=\"sk-toggleable__control sk-hidden--visually\" id=\"sk-estimator-id-3118\" type=\"checkbox\" ><label for=\"sk-estimator-id-3118\" class=\"sk-toggleable__label sk-toggleable__label-arrow\">OneHotEncoder</label><div class=\"sk-toggleable__content\"><pre>OneHotEncoder()</pre></div></div></div></div></div></div><div class=\"sk-parallel-item\"><div class=\"sk-item\"><div class=\"sk-label-container\"><div class=\"sk-label sk-toggleable\"><input class=\"sk-toggleable__control sk-hidden--visually\" id=\"sk-estimator-id-3119\" type=\"checkbox\" ><label for=\"sk-estimator-id-3119\" class=\"sk-toggleable__label sk-toggleable__label-arrow\">power_DURATION</label><div class=\"sk-toggleable__content\"><pre>[&#x27;DURATION&#x27;]</pre></div></div></div><div class=\"sk-serial\"><div class=\"sk-item\"><div class=\"sk-estimator sk-toggleable\"><input class=\"sk-toggleable__control sk-hidden--visually\" id=\"sk-estimator-id-3120\" type=\"checkbox\" ><label for=\"sk-estimator-id-3120\" class=\"sk-toggleable__label sk-toggleable__label-arrow\">PowerTransformer</label><div class=\"sk-toggleable__content\"><pre>PowerTransformer()</pre></div></div></div></div></div></div><div class=\"sk-parallel-item\"><div class=\"sk-item\"><div class=\"sk-label-container\"><div class=\"sk-label sk-toggleable\"><input class=\"sk-toggleable__control sk-hidden--visually\" id=\"sk-estimator-id-3121\" type=\"checkbox\" ><label for=\"sk-estimator-id-3121\" class=\"sk-toggleable__label sk-toggleable__label-arrow\">onehot_HISTORY</label><div class=\"sk-toggleable__content\"><pre>[&#x27;HISTORY&#x27;]</pre></div></div></div><div class=\"sk-serial\"><div class=\"sk-item\"><div class=\"sk-estimator sk-toggleable\"><input class=\"sk-toggleable__control sk-hidden--visually\" id=\"sk-estimator-id-3122\" type=\"checkbox\" ><label for=\"sk-estimator-id-3122\" class=\"sk-toggleable__label sk-toggleable__label-arrow\">OneHotEncoder</label><div class=\"sk-toggleable__content\"><pre>OneHotEncoder()</pre></div></div></div></div></div></div><div class=\"sk-parallel-item\"><div class=\"sk-item\"><div class=\"sk-label-container\"><div class=\"sk-label sk-toggleable\"><input class=\"sk-toggleable__control sk-hidden--visually\" id=\"sk-estimator-id-3123\" type=\"checkbox\" ><label for=\"sk-estimator-id-3123\" class=\"sk-toggleable__label sk-toggleable__label-arrow\">binary_NEW_CAR</label><div class=\"sk-toggleable__content\"><pre>[&#x27;NEW_CAR&#x27;]</pre></div></div></div><div class=\"sk-serial\"><div class=\"sk-item\"><div class=\"sk-estimator sk-toggleable\"><input class=\"sk-toggleable__control sk-hidden--visually\" id=\"sk-estimator-id-3124\" type=\"checkbox\" ><label for=\"sk-estimator-id-3124\" class=\"sk-toggleable__label sk-toggleable__label-arrow\">MinMaxScaler</label><div class=\"sk-toggleable__content\"><pre>MinMaxScaler()</pre></div></div></div></div></div></div><div class=\"sk-parallel-item\"><div class=\"sk-item\"><div class=\"sk-label-container\"><div class=\"sk-label sk-toggleable\"><input class=\"sk-toggleable__control sk-hidden--visually\" id=\"sk-estimator-id-3125\" type=\"checkbox\" ><label for=\"sk-estimator-id-3125\" class=\"sk-toggleable__label sk-toggleable__label-arrow\">binary_USED_CAR</label><div class=\"sk-toggleable__content\"><pre>[&#x27;USED_CAR&#x27;]</pre></div></div></div><div class=\"sk-serial\"><div class=\"sk-item\"><div class=\"sk-estimator sk-toggleable\"><input class=\"sk-toggleable__control sk-hidden--visually\" id=\"sk-estimator-id-3126\" type=\"checkbox\" ><label for=\"sk-estimator-id-3126\" class=\"sk-toggleable__label sk-toggleable__label-arrow\">MinMaxScaler</label><div class=\"sk-toggleable__content\"><pre>MinMaxScaler()</pre></div></div></div></div></div></div><div class=\"sk-parallel-item\"><div class=\"sk-item\"><div class=\"sk-label-container\"><div class=\"sk-label sk-toggleable\"><input class=\"sk-toggleable__control sk-hidden--visually\" id=\"sk-estimator-id-3127\" type=\"checkbox\" ><label for=\"sk-estimator-id-3127\" class=\"sk-toggleable__label sk-toggleable__label-arrow\">binary_FURNITURE</label><div class=\"sk-toggleable__content\"><pre>[&#x27;FURNITURE&#x27;]</pre></div></div></div><div class=\"sk-serial\"><div class=\"sk-item\"><div class=\"sk-estimator sk-toggleable\"><input class=\"sk-toggleable__control sk-hidden--visually\" id=\"sk-estimator-id-3128\" type=\"checkbox\" ><label for=\"sk-estimator-id-3128\" class=\"sk-toggleable__label sk-toggleable__label-arrow\">MinMaxScaler</label><div class=\"sk-toggleable__content\"><pre>MinMaxScaler()</pre></div></div></div></div></div></div><div class=\"sk-parallel-item\"><div class=\"sk-item\"><div class=\"sk-label-container\"><div class=\"sk-label sk-toggleable\"><input class=\"sk-toggleable__control sk-hidden--visually\" id=\"sk-estimator-id-3129\" type=\"checkbox\" ><label for=\"sk-estimator-id-3129\" class=\"sk-toggleable__label sk-toggleable__label-arrow\">binary_RADIO/TV</label><div class=\"sk-toggleable__content\"><pre>[&#x27;RADIO/TV&#x27;]</pre></div></div></div><div class=\"sk-serial\"><div class=\"sk-item\"><div class=\"sk-estimator sk-toggleable\"><input class=\"sk-toggleable__control sk-hidden--visually\" id=\"sk-estimator-id-3130\" type=\"checkbox\" ><label for=\"sk-estimator-id-3130\" class=\"sk-toggleable__label sk-toggleable__label-arrow\">MinMaxScaler</label><div class=\"sk-toggleable__content\"><pre>MinMaxScaler()</pre></div></div></div></div></div></div><div class=\"sk-parallel-item\"><div class=\"sk-item\"><div class=\"sk-label-container\"><div class=\"sk-label sk-toggleable\"><input class=\"sk-toggleable__control sk-hidden--visually\" id=\"sk-estimator-id-3131\" type=\"checkbox\" ><label for=\"sk-estimator-id-3131\" class=\"sk-toggleable__label sk-toggleable__label-arrow\">binary_EDUCATION</label><div class=\"sk-toggleable__content\"><pre>[&#x27;EDUCATION&#x27;]</pre></div></div></div><div class=\"sk-serial\"><div class=\"sk-item\"><div class=\"sk-estimator sk-toggleable\"><input class=\"sk-toggleable__control sk-hidden--visually\" id=\"sk-estimator-id-3132\" type=\"checkbox\" ><label for=\"sk-estimator-id-3132\" class=\"sk-toggleable__label sk-toggleable__label-arrow\">MinMaxScaler</label><div class=\"sk-toggleable__content\"><pre>MinMaxScaler()</pre></div></div></div></div></div></div><div class=\"sk-parallel-item\"><div class=\"sk-item\"><div class=\"sk-label-container\"><div class=\"sk-label sk-toggleable\"><input class=\"sk-toggleable__control sk-hidden--visually\" id=\"sk-estimator-id-3133\" type=\"checkbox\" ><label for=\"sk-estimator-id-3133\" class=\"sk-toggleable__label sk-toggleable__label-arrow\">binary_RETRAINING</label><div class=\"sk-toggleable__content\"><pre>[&#x27;RETRAINING&#x27;]</pre></div></div></div><div class=\"sk-serial\"><div class=\"sk-item\"><div class=\"sk-estimator sk-toggleable\"><input class=\"sk-toggleable__control sk-hidden--visually\" id=\"sk-estimator-id-3134\" type=\"checkbox\" ><label for=\"sk-estimator-id-3134\" class=\"sk-toggleable__label sk-toggleable__label-arrow\">MinMaxScaler</label><div class=\"sk-toggleable__content\"><pre>MinMaxScaler()</pre></div></div></div></div></div></div><div class=\"sk-parallel-item\"><div class=\"sk-item\"><div class=\"sk-label-container\"><div class=\"sk-label sk-toggleable\"><input class=\"sk-toggleable__control sk-hidden--visually\" id=\"sk-estimator-id-3135\" type=\"checkbox\" ><label for=\"sk-estimator-id-3135\" class=\"sk-toggleable__label sk-toggleable__label-arrow\">onehot_SAV_ACCT</label><div class=\"sk-toggleable__content\"><pre>[&#x27;SAV_ACCT&#x27;]</pre></div></div></div><div class=\"sk-serial\"><div class=\"sk-item\"><div class=\"sk-estimator sk-toggleable\"><input class=\"sk-toggleable__control sk-hidden--visually\" id=\"sk-estimator-id-3136\" type=\"checkbox\" ><label for=\"sk-estimator-id-3136\" class=\"sk-toggleable__label sk-toggleable__label-arrow\">OneHotEncoder</label><div class=\"sk-toggleable__content\"><pre>OneHotEncoder()</pre></div></div></div></div></div></div><div class=\"sk-parallel-item\"><div class=\"sk-item\"><div class=\"sk-label-container\"><div class=\"sk-label sk-toggleable\"><input class=\"sk-toggleable__control sk-hidden--visually\" id=\"sk-estimator-id-3137\" type=\"checkbox\" ><label for=\"sk-estimator-id-3137\" class=\"sk-toggleable__label sk-toggleable__label-arrow\">onehot_EMPLOYMENT</label><div class=\"sk-toggleable__content\"><pre>[&#x27;EMPLOYMENT&#x27;]</pre></div></div></div><div class=\"sk-serial\"><div class=\"sk-item\"><div class=\"sk-estimator sk-toggleable\"><input class=\"sk-toggleable__control sk-hidden--visually\" id=\"sk-estimator-id-3138\" type=\"checkbox\" ><label for=\"sk-estimator-id-3138\" class=\"sk-toggleable__label sk-toggleable__label-arrow\">OneHotEncoder</label><div class=\"sk-toggleable__content\"><pre>OneHotEncoder()</pre></div></div></div></div></div></div><div class=\"sk-parallel-item\"><div class=\"sk-item\"><div class=\"sk-label-container\"><div class=\"sk-label sk-toggleable\"><input class=\"sk-toggleable__control sk-hidden--visually\" id=\"sk-estimator-id-3139\" type=\"checkbox\" ><label for=\"sk-estimator-id-3139\" class=\"sk-toggleable__label sk-toggleable__label-arrow\">power_INSTALL_RATE</label><div class=\"sk-toggleable__content\"><pre>[&#x27;INSTALL_RATE&#x27;]</pre></div></div></div><div class=\"sk-serial\"><div class=\"sk-item\"><div class=\"sk-estimator sk-toggleable\"><input class=\"sk-toggleable__control sk-hidden--visually\" id=\"sk-estimator-id-3140\" type=\"checkbox\" ><label for=\"sk-estimator-id-3140\" class=\"sk-toggleable__label sk-toggleable__label-arrow\">PowerTransformer</label><div class=\"sk-toggleable__content\"><pre>PowerTransformer()</pre></div></div></div></div></div></div><div class=\"sk-parallel-item\"><div class=\"sk-item\"><div class=\"sk-label-container\"><div class=\"sk-label sk-toggleable\"><input class=\"sk-toggleable__control sk-hidden--visually\" id=\"sk-estimator-id-3141\" type=\"checkbox\" ><label for=\"sk-estimator-id-3141\" class=\"sk-toggleable__label sk-toggleable__label-arrow\">binary_MALE_DIV</label><div class=\"sk-toggleable__content\"><pre>[&#x27;MALE_DIV&#x27;]</pre></div></div></div><div class=\"sk-serial\"><div class=\"sk-item\"><div class=\"sk-estimator sk-toggleable\"><input class=\"sk-toggleable__control sk-hidden--visually\" id=\"sk-estimator-id-3142\" type=\"checkbox\" ><label for=\"sk-estimator-id-3142\" class=\"sk-toggleable__label sk-toggleable__label-arrow\">MinMaxScaler</label><div class=\"sk-toggleable__content\"><pre>MinMaxScaler()</pre></div></div></div></div></div></div><div class=\"sk-parallel-item\"><div class=\"sk-item\"><div class=\"sk-label-container\"><div class=\"sk-label sk-toggleable\"><input class=\"sk-toggleable__control sk-hidden--visually\" id=\"sk-estimator-id-3143\" type=\"checkbox\" ><label for=\"sk-estimator-id-3143\" class=\"sk-toggleable__label sk-toggleable__label-arrow\">binary_MALE_SINGLE</label><div class=\"sk-toggleable__content\"><pre>[&#x27;MALE_SINGLE&#x27;]</pre></div></div></div><div class=\"sk-serial\"><div class=\"sk-item\"><div class=\"sk-estimator sk-toggleable\"><input class=\"sk-toggleable__control sk-hidden--visually\" id=\"sk-estimator-id-3144\" type=\"checkbox\" ><label for=\"sk-estimator-id-3144\" class=\"sk-toggleable__label sk-toggleable__label-arrow\">MinMaxScaler</label><div class=\"sk-toggleable__content\"><pre>MinMaxScaler()</pre></div></div></div></div></div></div><div class=\"sk-parallel-item\"><div class=\"sk-item\"><div class=\"sk-label-container\"><div class=\"sk-label sk-toggleable\"><input class=\"sk-toggleable__control sk-hidden--visually\" id=\"sk-estimator-id-3145\" type=\"checkbox\" ><label for=\"sk-estimator-id-3145\" class=\"sk-toggleable__label sk-toggleable__label-arrow\">binary_MALE_MAR_WID</label><div class=\"sk-toggleable__content\"><pre>[&#x27;MALE_MAR_WID&#x27;]</pre></div></div></div><div class=\"sk-serial\"><div class=\"sk-item\"><div class=\"sk-estimator sk-toggleable\"><input class=\"sk-toggleable__control sk-hidden--visually\" id=\"sk-estimator-id-3146\" type=\"checkbox\" ><label for=\"sk-estimator-id-3146\" class=\"sk-toggleable__label sk-toggleable__label-arrow\">MinMaxScaler</label><div class=\"sk-toggleable__content\"><pre>MinMaxScaler()</pre></div></div></div></div></div></div><div class=\"sk-parallel-item\"><div class=\"sk-item\"><div class=\"sk-label-container\"><div class=\"sk-label sk-toggleable\"><input class=\"sk-toggleable__control sk-hidden--visually\" id=\"sk-estimator-id-3147\" type=\"checkbox\" ><label for=\"sk-estimator-id-3147\" class=\"sk-toggleable__label sk-toggleable__label-arrow\">binary_CO-APPLICANT</label><div class=\"sk-toggleable__content\"><pre>[&#x27;CO-APPLICANT&#x27;]</pre></div></div></div><div class=\"sk-serial\"><div class=\"sk-item\"><div class=\"sk-estimator sk-toggleable\"><input class=\"sk-toggleable__control sk-hidden--visually\" id=\"sk-estimator-id-3148\" type=\"checkbox\" ><label for=\"sk-estimator-id-3148\" class=\"sk-toggleable__label sk-toggleable__label-arrow\">MinMaxScaler</label><div class=\"sk-toggleable__content\"><pre>MinMaxScaler()</pre></div></div></div></div></div></div><div class=\"sk-parallel-item\"><div class=\"sk-item\"><div class=\"sk-label-container\"><div class=\"sk-label sk-toggleable\"><input class=\"sk-toggleable__control sk-hidden--visually\" id=\"sk-estimator-id-3149\" type=\"checkbox\" ><label for=\"sk-estimator-id-3149\" class=\"sk-toggleable__label sk-toggleable__label-arrow\">binary_GUARANTOR</label><div class=\"sk-toggleable__content\"><pre>[&#x27;GUARANTOR&#x27;]</pre></div></div></div><div class=\"sk-serial\"><div class=\"sk-item\"><div class=\"sk-estimator sk-toggleable\"><input class=\"sk-toggleable__control sk-hidden--visually\" id=\"sk-estimator-id-3150\" type=\"checkbox\" ><label for=\"sk-estimator-id-3150\" class=\"sk-toggleable__label sk-toggleable__label-arrow\">MinMaxScaler</label><div class=\"sk-toggleable__content\"><pre>MinMaxScaler()</pre></div></div></div></div></div></div><div class=\"sk-parallel-item\"><div class=\"sk-item\"><div class=\"sk-label-container\"><div class=\"sk-label sk-toggleable\"><input class=\"sk-toggleable__control sk-hidden--visually\" id=\"sk-estimator-id-3151\" type=\"checkbox\" ><label for=\"sk-estimator-id-3151\" class=\"sk-toggleable__label sk-toggleable__label-arrow\">onehot_PRESENT_RESIDENT</label><div class=\"sk-toggleable__content\"><pre>[&#x27;PRESENT_RESIDENT&#x27;]</pre></div></div></div><div class=\"sk-serial\"><div class=\"sk-item\"><div class=\"sk-estimator sk-toggleable\"><input class=\"sk-toggleable__control sk-hidden--visually\" id=\"sk-estimator-id-3152\" type=\"checkbox\" ><label for=\"sk-estimator-id-3152\" class=\"sk-toggleable__label sk-toggleable__label-arrow\">OneHotEncoder</label><div class=\"sk-toggleable__content\"><pre>OneHotEncoder()</pre></div></div></div></div></div></div><div class=\"sk-parallel-item\"><div class=\"sk-item\"><div class=\"sk-label-container\"><div class=\"sk-label sk-toggleable\"><input class=\"sk-toggleable__control sk-hidden--visually\" id=\"sk-estimator-id-3153\" type=\"checkbox\" ><label for=\"sk-estimator-id-3153\" class=\"sk-toggleable__label sk-toggleable__label-arrow\">binary_REAL_ESTATE</label><div class=\"sk-toggleable__content\"><pre>[&#x27;REAL_ESTATE&#x27;]</pre></div></div></div><div class=\"sk-serial\"><div class=\"sk-item\"><div class=\"sk-estimator sk-toggleable\"><input class=\"sk-toggleable__control sk-hidden--visually\" id=\"sk-estimator-id-3154\" type=\"checkbox\" ><label for=\"sk-estimator-id-3154\" class=\"sk-toggleable__label sk-toggleable__label-arrow\">MinMaxScaler</label><div class=\"sk-toggleable__content\"><pre>MinMaxScaler()</pre></div></div></div></div></div></div><div class=\"sk-parallel-item\"><div class=\"sk-item\"><div class=\"sk-label-container\"><div class=\"sk-label sk-toggleable\"><input class=\"sk-toggleable__control sk-hidden--visually\" id=\"sk-estimator-id-3155\" type=\"checkbox\" ><label for=\"sk-estimator-id-3155\" class=\"sk-toggleable__label sk-toggleable__label-arrow\">binary_PROP_UNKN_NONE</label><div class=\"sk-toggleable__content\"><pre>[&#x27;PROP_UNKN_NONE&#x27;]</pre></div></div></div><div class=\"sk-serial\"><div class=\"sk-item\"><div class=\"sk-estimator sk-toggleable\"><input class=\"sk-toggleable__control sk-hidden--visually\" id=\"sk-estimator-id-3156\" type=\"checkbox\" ><label for=\"sk-estimator-id-3156\" class=\"sk-toggleable__label sk-toggleable__label-arrow\">MinMaxScaler</label><div class=\"sk-toggleable__content\"><pre>MinMaxScaler()</pre></div></div></div></div></div></div><div class=\"sk-parallel-item\"><div class=\"sk-item\"><div class=\"sk-label-container\"><div class=\"sk-label sk-toggleable\"><input class=\"sk-toggleable__control sk-hidden--visually\" id=\"sk-estimator-id-3157\" type=\"checkbox\" ><label for=\"sk-estimator-id-3157\" class=\"sk-toggleable__label sk-toggleable__label-arrow\">power_AGE</label><div class=\"sk-toggleable__content\"><pre>[&#x27;AGE&#x27;]</pre></div></div></div><div class=\"sk-serial\"><div class=\"sk-item\"><div class=\"sk-estimator sk-toggleable\"><input class=\"sk-toggleable__control sk-hidden--visually\" id=\"sk-estimator-id-3158\" type=\"checkbox\" ><label for=\"sk-estimator-id-3158\" class=\"sk-toggleable__label sk-toggleable__label-arrow\">PowerTransformer</label><div class=\"sk-toggleable__content\"><pre>PowerTransformer()</pre></div></div></div></div></div></div><div class=\"sk-parallel-item\"><div class=\"sk-item\"><div class=\"sk-label-container\"><div class=\"sk-label sk-toggleable\"><input class=\"sk-toggleable__control sk-hidden--visually\" id=\"sk-estimator-id-3159\" type=\"checkbox\" ><label for=\"sk-estimator-id-3159\" class=\"sk-toggleable__label sk-toggleable__label-arrow\">binary_OTHER_INSTALL</label><div class=\"sk-toggleable__content\"><pre>[&#x27;OTHER_INSTALL&#x27;]</pre></div></div></div><div class=\"sk-serial\"><div class=\"sk-item\"><div class=\"sk-estimator sk-toggleable\"><input class=\"sk-toggleable__control sk-hidden--visually\" id=\"sk-estimator-id-3160\" type=\"checkbox\" ><label for=\"sk-estimator-id-3160\" class=\"sk-toggleable__label sk-toggleable__label-arrow\">MinMaxScaler</label><div class=\"sk-toggleable__content\"><pre>MinMaxScaler()</pre></div></div></div></div></div></div><div class=\"sk-parallel-item\"><div class=\"sk-item\"><div class=\"sk-label-container\"><div class=\"sk-label sk-toggleable\"><input class=\"sk-toggleable__control sk-hidden--visually\" id=\"sk-estimator-id-3161\" type=\"checkbox\" ><label for=\"sk-estimator-id-3161\" class=\"sk-toggleable__label sk-toggleable__label-arrow\">binary_RENT</label><div class=\"sk-toggleable__content\"><pre>[&#x27;RENT&#x27;]</pre></div></div></div><div class=\"sk-serial\"><div class=\"sk-item\"><div class=\"sk-estimator sk-toggleable\"><input class=\"sk-toggleable__control sk-hidden--visually\" id=\"sk-estimator-id-3162\" type=\"checkbox\" ><label for=\"sk-estimator-id-3162\" class=\"sk-toggleable__label sk-toggleable__label-arrow\">MinMaxScaler</label><div class=\"sk-toggleable__content\"><pre>MinMaxScaler()</pre></div></div></div></div></div></div><div class=\"sk-parallel-item\"><div class=\"sk-item\"><div class=\"sk-label-container\"><div class=\"sk-label sk-toggleable\"><input class=\"sk-toggleable__control sk-hidden--visually\" id=\"sk-estimator-id-3163\" type=\"checkbox\" ><label for=\"sk-estimator-id-3163\" class=\"sk-toggleable__label sk-toggleable__label-arrow\">binary_OWN_RES</label><div class=\"sk-toggleable__content\"><pre>[&#x27;OWN_RES&#x27;]</pre></div></div></div><div class=\"sk-serial\"><div class=\"sk-item\"><div class=\"sk-estimator sk-toggleable\"><input class=\"sk-toggleable__control sk-hidden--visually\" id=\"sk-estimator-id-3164\" type=\"checkbox\" ><label for=\"sk-estimator-id-3164\" class=\"sk-toggleable__label sk-toggleable__label-arrow\">MinMaxScaler</label><div class=\"sk-toggleable__content\"><pre>MinMaxScaler()</pre></div></div></div></div></div></div><div class=\"sk-parallel-item\"><div class=\"sk-item\"><div class=\"sk-label-container\"><div class=\"sk-label sk-toggleable\"><input class=\"sk-toggleable__control sk-hidden--visually\" id=\"sk-estimator-id-3165\" type=\"checkbox\" ><label for=\"sk-estimator-id-3165\" class=\"sk-toggleable__label sk-toggleable__label-arrow\">power_NUM_CREDITS</label><div class=\"sk-toggleable__content\"><pre>[&#x27;NUM_CREDITS&#x27;]</pre></div></div></div><div class=\"sk-serial\"><div class=\"sk-item\"><div class=\"sk-estimator sk-toggleable\"><input class=\"sk-toggleable__control sk-hidden--visually\" id=\"sk-estimator-id-3166\" type=\"checkbox\" ><label for=\"sk-estimator-id-3166\" class=\"sk-toggleable__label sk-toggleable__label-arrow\">PowerTransformer</label><div class=\"sk-toggleable__content\"><pre>PowerTransformer()</pre></div></div></div></div></div></div><div class=\"sk-parallel-item\"><div class=\"sk-item\"><div class=\"sk-label-container\"><div class=\"sk-label sk-toggleable\"><input class=\"sk-toggleable__control sk-hidden--visually\" id=\"sk-estimator-id-3167\" type=\"checkbox\" ><label for=\"sk-estimator-id-3167\" class=\"sk-toggleable__label sk-toggleable__label-arrow\">onehot_JOB</label><div class=\"sk-toggleable__content\"><pre>[&#x27;JOB&#x27;]</pre></div></div></div><div class=\"sk-serial\"><div class=\"sk-item\"><div class=\"sk-estimator sk-toggleable\"><input class=\"sk-toggleable__control sk-hidden--visually\" id=\"sk-estimator-id-3168\" type=\"checkbox\" ><label for=\"sk-estimator-id-3168\" class=\"sk-toggleable__label sk-toggleable__label-arrow\">OneHotEncoder</label><div class=\"sk-toggleable__content\"><pre>OneHotEncoder()</pre></div></div></div></div></div></div><div class=\"sk-parallel-item\"><div class=\"sk-item\"><div class=\"sk-label-container\"><div class=\"sk-label sk-toggleable\"><input class=\"sk-toggleable__control sk-hidden--visually\" id=\"sk-estimator-id-3169\" type=\"checkbox\" ><label for=\"sk-estimator-id-3169\" class=\"sk-toggleable__label sk-toggleable__label-arrow\">power_NUM_DEPENDENTS</label><div class=\"sk-toggleable__content\"><pre>[&#x27;NUM_DEPENDENTS&#x27;]</pre></div></div></div><div class=\"sk-serial\"><div class=\"sk-item\"><div class=\"sk-estimator sk-toggleable\"><input class=\"sk-toggleable__control sk-hidden--visually\" id=\"sk-estimator-id-3170\" type=\"checkbox\" ><label for=\"sk-estimator-id-3170\" class=\"sk-toggleable__label sk-toggleable__label-arrow\">PowerTransformer</label><div class=\"sk-toggleable__content\"><pre>PowerTransformer()</pre></div></div></div></div></div></div><div class=\"sk-parallel-item\"><div class=\"sk-item\"><div class=\"sk-label-container\"><div class=\"sk-label sk-toggleable\"><input class=\"sk-toggleable__control sk-hidden--visually\" id=\"sk-estimator-id-3171\" type=\"checkbox\" ><label for=\"sk-estimator-id-3171\" class=\"sk-toggleable__label sk-toggleable__label-arrow\">binary_TELEPHONE</label><div class=\"sk-toggleable__content\"><pre>[&#x27;TELEPHONE&#x27;]</pre></div></div></div><div class=\"sk-serial\"><div class=\"sk-item\"><div class=\"sk-estimator sk-toggleable\"><input class=\"sk-toggleable__control sk-hidden--visually\" id=\"sk-estimator-id-3172\" type=\"checkbox\" ><label for=\"sk-estimator-id-3172\" class=\"sk-toggleable__label sk-toggleable__label-arrow\">MinMaxScaler</label><div class=\"sk-toggleable__content\"><pre>MinMaxScaler()</pre></div></div></div></div></div></div><div class=\"sk-parallel-item\"><div class=\"sk-item\"><div class=\"sk-label-container\"><div class=\"sk-label sk-toggleable\"><input class=\"sk-toggleable__control sk-hidden--visually\" id=\"sk-estimator-id-3173\" type=\"checkbox\" ><label for=\"sk-estimator-id-3173\" class=\"sk-toggleable__label sk-toggleable__label-arrow\">binary_FOREIGN</label><div class=\"sk-toggleable__content\"><pre>[&#x27;FOREIGN&#x27;]</pre></div></div></div><div class=\"sk-serial\"><div class=\"sk-item\"><div class=\"sk-estimator sk-toggleable\"><input class=\"sk-toggleable__control sk-hidden--visually\" id=\"sk-estimator-id-3174\" type=\"checkbox\" ><label for=\"sk-estimator-id-3174\" class=\"sk-toggleable__label sk-toggleable__label-arrow\">MinMaxScaler</label><div class=\"sk-toggleable__content\"><pre>MinMaxScaler()</pre></div></div></div></div></div></div><div class=\"sk-parallel-item\"><div class=\"sk-item\"><div class=\"sk-label-container\"><div class=\"sk-label sk-toggleable\"><input class=\"sk-toggleable__control sk-hidden--visually\" id=\"sk-estimator-id-3175\" type=\"checkbox\" ><label for=\"sk-estimator-id-3175\" class=\"sk-toggleable__label sk-toggleable__label-arrow\">scaler_AMOUNT</label><div class=\"sk-toggleable__content\"><pre>[&#x27;AMOUNT&#x27;]</pre></div></div></div><div class=\"sk-serial\"><div class=\"sk-item\"><div class=\"sk-estimator sk-toggleable\"><input class=\"sk-toggleable__control sk-hidden--visually\" id=\"sk-estimator-id-3176\" type=\"checkbox\" ><label for=\"sk-estimator-id-3176\" class=\"sk-toggleable__label sk-toggleable__label-arrow\">RobustScaler</label><div class=\"sk-toggleable__content\"><pre>RobustScaler()</pre></div></div></div></div></div></div></div></div></div></div><div class=\"sk-item\"><div class=\"sk-estimator sk-toggleable\"><input class=\"sk-toggleable__control sk-hidden--visually\" id=\"sk-estimator-id-3177\" type=\"checkbox\" ><label for=\"sk-estimator-id-3177\" class=\"sk-toggleable__label sk-toggleable__label-arrow\">LogisticRegression</label><div class=\"sk-toggleable__content\"><pre>LogisticRegression(penalty=&#x27;elasticnet&#x27;, solver=&#x27;saga&#x27;)</pre></div></div></div></div></div></div></div></div></div></div></div></div>"
      ],
      "text/plain": [
       "GridSearchCV(cv=StratifiedKFold(n_splits=10, random_state=10, shuffle=True),\n",
       "             estimator=Pipeline(steps=[('feature_transformer',\n",
       "                                        Pipeline(steps=[('transforms',\n",
       "                                                         ColumnTransformer(transformers=[('onehot_CHK_ACCT',\n",
       "                                                                                          OneHotEncoder(),\n",
       "                                                                                          ['CHK_ACCT']),\n",
       "                                                                                         ('power_DURATION',\n",
       "                                                                                          PowerTransformer(),\n",
       "                                                                                          ['DURATION']),\n",
       "                                                                                         ('onehot_HISTORY',\n",
       "                                                                                          OneHotEncoder(),\n",
       "                                                                                          ['HISTORY']),\n",
       "                                                                                         ('binary_NEW_CAR',...\n",
       "             param_grid={'logistic_regression__C': array([1.00000000e-04, 7.74263683e-04, 5.99484250e-03, 4.64158883e-02,\n",
       "       3.59381366e-01, 2.78255940e+00, 2.15443469e+01, 1.66810054e+02,\n",
       "       1.29154967e+03, 1.00000000e+04]),\n",
       "                         'logistic_regression__l1_ratio': array([0.        , 0.11111111, 0.22222222, 0.33333333, 0.44444444,\n",
       "       0.55555556, 0.66666667, 0.77777778, 0.88888889, 1.        ])},\n",
       "             refit='neg_log_loss', scoring=['neg_log_loss', 'roc_auc'],\n",
       "             verbose=True)"
      ]
     },
     "execution_count": 404,
     "metadata": {},
     "output_type": "execute_result"
    }
   ],
   "source": [
    "logistic_model_cv.fit(X_tr,y_tr)"
   ]
  },
  {
   "cell_type": "code",
   "execution_count": 269,
   "id": "99b66710-b2ec-4d0c-89f1-1559b0966fee",
   "metadata": {},
   "outputs": [
    {
     "data": {
      "text/plain": [
       "4.0"
      ]
     },
     "execution_count": 269,
     "metadata": {},
     "output_type": "execute_result"
    }
   ],
   "source": [
    "X_tr['DURATION'].min()"
   ]
  },
  {
   "cell_type": "code",
   "execution_count": 405,
   "id": "ff6b65ec-565c-4713-bffd-9ba67ad721f0",
   "metadata": {},
   "outputs": [],
   "source": [
    "from sklearn.utils import estimator_html_repr\n",
    "\n",
    "with open(\"logistic_pipeline.html\", \"w\", encoding='utf-8') as f:\n",
    "    f.write(estimator_html_repr(logistic_model_cv))"
   ]
  },
  {
   "cell_type": "code",
   "execution_count": 406,
   "id": "c623bd2a-3a6b-4cc9-977f-53fa46b75c84",
   "metadata": {},
   "outputs": [
    {
     "data": {
      "text/plain": [
       "{'logistic_regression__C': 0.3593813663804626,\n",
       " 'logistic_regression__l1_ratio': 0.2222222222222222}"
      ]
     },
     "execution_count": 406,
     "metadata": {},
     "output_type": "execute_result"
    }
   ],
   "source": [
    "logistic_model_cv.best_params_"
   ]
  },
  {
   "cell_type": "code",
   "execution_count": 407,
   "id": "a1ff48f6-3b42-4ebc-98e2-33b288d8dab8",
   "metadata": {},
   "outputs": [
    {
     "data": {
      "text/plain": [
       "-0.4993948195952186"
      ]
     },
     "execution_count": 407,
     "metadata": {},
     "output_type": "execute_result"
    }
   ],
   "source": [
    "logistic_model_cv.best_score_"
   ]
  },
  {
   "cell_type": "code",
   "execution_count": 408,
   "id": "47c0ed30-eb8f-498b-bf40-2769ef358de3",
   "metadata": {},
   "outputs": [],
   "source": [
    "cv_results = pd.DataFrame.from_dict(logistic_model_cv.cv_results_)\n",
    "cv_results.sort_values(by='rank_test_neg_log_loss').to_csv('logistic_regression_CV.csv')"
   ]
  },
  {
   "cell_type": "code",
   "execution_count": 409,
   "id": "ef6686f3-74e1-4827-b55e-9433892be020",
   "metadata": {},
   "outputs": [
    {
     "data": {
      "text/plain": [
       "['logistic_model.joblib']"
      ]
     },
     "execution_count": 409,
     "metadata": {},
     "output_type": "execute_result"
    }
   ],
   "source": [
    "import joblib\n",
    "joblib.dump(logistic_model_cv,'logistic_model.joblib')"
   ]
  },
  {
   "cell_type": "markdown",
   "id": "139ceb90-510f-4419-89fb-94d05f132197",
   "metadata": {},
   "source": [
    "## test score"
   ]
  },
  {
   "cell_type": "code",
   "execution_count": 410,
   "id": "343d9dbe-1a4c-401d-914c-00b6084027eb",
   "metadata": {},
   "outputs": [
    {
     "data": {
      "text/plain": [
       "0.47952109313027763"
      ]
     },
     "execution_count": 410,
     "metadata": {},
     "output_type": "execute_result"
    }
   ],
   "source": [
    "log_loss(y_pred=logistic_model_cv.predict_proba(X_te)[:,1],y_true=y_te)"
   ]
  },
  {
   "cell_type": "code",
   "execution_count": 411,
   "id": "5f8e7878-85ec-4a36-8d82-83664c5b14c0",
   "metadata": {},
   "outputs": [
    {
     "data": {
      "text/plain": [
       "0.8111266947171576"
      ]
     },
     "execution_count": 411,
     "metadata": {},
     "output_type": "execute_result"
    }
   ],
   "source": [
    "from sklearn.metrics import roc_auc_score\n",
    "roc_auc_score(y_score=logistic_model_cv.predict_proba(X_te)[:,1],y_true=y_te)"
   ]
  },
  {
   "cell_type": "markdown",
   "id": "892e63a4-3126-48aa-95ae-a12c697c45c8",
   "metadata": {},
   "source": [
    "# Gradient Boosted decision trees\n",
    "* Pros: Do not need to scale date\n",
    "* Cons: Difficult to interpret. Might not extrapolate to unseen data."
   ]
  },
  {
   "cell_type": "code",
   "execution_count": 412,
   "id": "f24378d5-60ae-4f09-b42a-ed49043944ff",
   "metadata": {},
   "outputs": [],
   "source": [
    "# Modules needed for tree-ensemble\n",
    "import lightgbm as lgb\n",
    "from sklearn.model_selection import RandomizedSearchCV\n",
    "from sklearn.calibration import CalibratedClassifierCV\n",
    "#\n",
    "\n",
    "\n",
    "param_dist = {'base_estimator__max_depth': [2**i for i in range(5)],\n",
    "              'base_estimator__num_iterations':[50,100,200,400],\n",
    "              'base_estimator__reg_lambda':np.logspace(-3,3),\n",
    "              'base_estimator__learning_rate':np.logspace(-2,-.5),\n",
    "             'base_estimator__feature_fraction':[.25,.5,1.],\n",
    "             'base_estimator__bagging_freq':[0,1,5,10],\n",
    "              'base_estimator__bagging_fraction':[1.]\n",
    "             }\n",
    "\n",
    "\n",
    "\n",
    "\n",
    "gbdt_model_cv = RandomizedSearchCV(CalibratedClassifierCV(lgb.LGBMClassifier(boosting_type = 'dart',\n",
    "                                                                            interaction_constraints = \n",
    "                                                                             [[i for i,_ in enumerate(X_tr.columns) if _ !='DURATION'],\n",
    "                                                                              [i for i,_ in enumerate(X_tr.columns) if _ =='DURATION']],\n",
    "                                                                             monotone_constraints_method = 'advanced',\n",
    "                                                                            monotone_constraints = [int(x in ['AMOUNT','DURATION']) for x in X_tr.columns])),\n",
    "                                   n_iter=64,\n",
    "                                   param_distributions = param_dist, \n",
    "                                   cv = skf,scoring= ['neg_log_loss', 'roc_auc'],refit = 'neg_log_loss')"
   ]
  },
  {
   "cell_type": "code",
   "execution_count": null,
   "id": "6ca748b6-1695-4a74-87b4-4140a83ac090",
   "metadata": {},
   "outputs": [],
   "source": [
    "gbdt_model_cv.fit(X_tr,y_tr)\n"
   ]
  },
  {
   "cell_type": "code",
   "execution_count": 414,
   "id": "b9f66bf2-30c5-4702-9a11-17bb24d80e85",
   "metadata": {},
   "outputs": [
    {
     "data": {
      "text/html": [
       "<style>#sk-container-id-88 {color: black;background-color: white;}#sk-container-id-88 pre{padding: 0;}#sk-container-id-88 div.sk-toggleable {background-color: white;}#sk-container-id-88 label.sk-toggleable__label {cursor: pointer;display: block;width: 100%;margin-bottom: 0;padding: 0.3em;box-sizing: border-box;text-align: center;}#sk-container-id-88 label.sk-toggleable__label-arrow:before {content: \"▸\";float: left;margin-right: 0.25em;color: #696969;}#sk-container-id-88 label.sk-toggleable__label-arrow:hover:before {color: black;}#sk-container-id-88 div.sk-estimator:hover label.sk-toggleable__label-arrow:before {color: black;}#sk-container-id-88 div.sk-toggleable__content {max-height: 0;max-width: 0;overflow: hidden;text-align: left;background-color: #f0f8ff;}#sk-container-id-88 div.sk-toggleable__content pre {margin: 0.2em;color: black;border-radius: 0.25em;background-color: #f0f8ff;}#sk-container-id-88 input.sk-toggleable__control:checked~div.sk-toggleable__content {max-height: 200px;max-width: 100%;overflow: auto;}#sk-container-id-88 input.sk-toggleable__control:checked~label.sk-toggleable__label-arrow:before {content: \"▾\";}#sk-container-id-88 div.sk-estimator input.sk-toggleable__control:checked~label.sk-toggleable__label {background-color: #d4ebff;}#sk-container-id-88 div.sk-label input.sk-toggleable__control:checked~label.sk-toggleable__label {background-color: #d4ebff;}#sk-container-id-88 input.sk-hidden--visually {border: 0;clip: rect(1px 1px 1px 1px);clip: rect(1px, 1px, 1px, 1px);height: 1px;margin: -1px;overflow: hidden;padding: 0;position: absolute;width: 1px;}#sk-container-id-88 div.sk-estimator {font-family: monospace;background-color: #f0f8ff;border: 1px dotted black;border-radius: 0.25em;box-sizing: border-box;margin-bottom: 0.5em;}#sk-container-id-88 div.sk-estimator:hover {background-color: #d4ebff;}#sk-container-id-88 div.sk-parallel-item::after {content: \"\";width: 100%;border-bottom: 1px solid gray;flex-grow: 1;}#sk-container-id-88 div.sk-label:hover label.sk-toggleable__label {background-color: #d4ebff;}#sk-container-id-88 div.sk-serial::before {content: \"\";position: absolute;border-left: 1px solid gray;box-sizing: border-box;top: 0;bottom: 0;left: 50%;z-index: 0;}#sk-container-id-88 div.sk-serial {display: flex;flex-direction: column;align-items: center;background-color: white;padding-right: 0.2em;padding-left: 0.2em;position: relative;}#sk-container-id-88 div.sk-item {position: relative;z-index: 1;}#sk-container-id-88 div.sk-parallel {display: flex;align-items: stretch;justify-content: center;background-color: white;position: relative;}#sk-container-id-88 div.sk-item::before, #sk-container-id-88 div.sk-parallel-item::before {content: \"\";position: absolute;border-left: 1px solid gray;box-sizing: border-box;top: 0;bottom: 0;left: 50%;z-index: -1;}#sk-container-id-88 div.sk-parallel-item {display: flex;flex-direction: column;z-index: 1;position: relative;background-color: white;}#sk-container-id-88 div.sk-parallel-item:first-child::after {align-self: flex-end;width: 50%;}#sk-container-id-88 div.sk-parallel-item:last-child::after {align-self: flex-start;width: 50%;}#sk-container-id-88 div.sk-parallel-item:only-child::after {width: 0;}#sk-container-id-88 div.sk-dashed-wrapped {border: 1px dashed gray;margin: 0 0.4em 0.5em 0.4em;box-sizing: border-box;padding-bottom: 0.4em;background-color: white;}#sk-container-id-88 div.sk-label label {font-family: monospace;font-weight: bold;display: inline-block;line-height: 1.2em;}#sk-container-id-88 div.sk-label-container {text-align: center;}#sk-container-id-88 div.sk-container {/* jupyter's `normalize.less` sets `[hidden] { display: none; }` but bootstrap.min.css set `[hidden] { display: none !important; }` so we also need the `!important` here to be able to override the default hidden behavior on the sphinx rendered scikit-learn.org. See: https://github.com/scikit-learn/scikit-learn/issues/21755 */display: inline-block !important;position: relative;}#sk-container-id-88 div.sk-text-repr-fallback {display: none;}</style><div id=\"sk-container-id-88\" class=\"sk-top-container\"><div class=\"sk-text-repr-fallback\"><pre>RandomizedSearchCV(cv=StratifiedKFold(n_splits=10, random_state=10, shuffle=True),\n",
       "                   estimator=CalibratedClassifierCV(base_estimator=LGBMClassifier(boosting_type=&#x27;dart&#x27;,\n",
       "                                                                                  interaction_constraints=[[0,\n",
       "                                                                                                            2,\n",
       "                                                                                                            3,\n",
       "                                                                                                            4,\n",
       "                                                                                                            5,\n",
       "                                                                                                            6,\n",
       "                                                                                                            7,\n",
       "                                                                                                            8,\n",
       "                                                                                                            9,\n",
       "                                                                                                            10,\n",
       "                                                                                                            11,\n",
       "                                                                                                            12,\n",
       "                                                                                                            13,\n",
       "                                                                                                            14,\n",
       "                                                                                                            15,\n",
       "                                                                                                            16,\n",
       "                                                                                                            17,\n",
       "                                                                                                            18,\n",
       "                                                                                                            19,\n",
       "                                                                                                            20,\n",
       "                                                                                                            21,\n",
       "                                                                                                            22,\n",
       "                                                                                                            23,\n",
       "                                                                                                            24,\n",
       "                                                                                                            25,\n",
       "                                                                                                            26,\n",
       "                                                                                                            27,\n",
       "                                                                                                            28,\n",
       "                                                                                                            29],\n",
       "                                                                                                           [1]],\n",
       "                                                                                  monotone_constraints=[0,\n",
       "                                                                                                        1,\n",
       "                                                                                                        0,\n",
       "                                                                                                        0,\n",
       "                                                                                                        0,\n",
       "                                                                                                        0,\n",
       "                                                                                                        0,\n",
       "                                                                                                        0,\n",
       "                                                                                                        0,\n",
       "                                                                                                        1,\n",
       "                                                                                                        0,\n",
       "                                                                                                        0,\n",
       "                                                                                                        0,\n",
       "                                                                                                        0,\n",
       "                                                                                                        0,\n",
       "                                                                                                        0,\n",
       "                                                                                                        0,\n",
       "                                                                                                        0,\n",
       "                                                                                                        0,\n",
       "                                                                                                        0,\n",
       "                                                                                                        0,\n",
       "                                                                                                        0,\n",
       "                                                                                                        0,\n",
       "                                                                                                        0,\n",
       "                                                                                                        0,\n",
       "                                                                                                        0,\n",
       "                                                                                                        0,...\n",
       "       2.68269580e+00, 3.55648031e+00, 4.71486636e+00, 6.25055193e+00,\n",
       "       8.28642773e+00, 1.09854114e+01, 1.45634848e+01, 1.93069773e+01,\n",
       "       2.55954792e+01, 3.39322177e+01, 4.49843267e+01, 5.96362332e+01,\n",
       "       7.90604321e+01, 1.04811313e+02, 1.38949549e+02, 1.84206997e+02,\n",
       "       2.44205309e+02, 3.23745754e+02, 4.29193426e+02, 5.68986603e+02,\n",
       "       7.54312006e+02, 1.00000000e+03])},\n",
       "                   refit=&#x27;neg_log_loss&#x27;, scoring=[&#x27;neg_log_loss&#x27;, &#x27;roc_auc&#x27;])</pre><b>In a Jupyter environment, please rerun this cell to show the HTML representation or trust the notebook. <br />On GitHub, the HTML representation is unable to render, please try loading this page with nbviewer.org.</b></div><div class=\"sk-container\" hidden><div class=\"sk-item sk-dashed-wrapped\"><div class=\"sk-label-container\"><div class=\"sk-label sk-toggleable\"><input class=\"sk-toggleable__control sk-hidden--visually\" id=\"sk-estimator-id-3247\" type=\"checkbox\" ><label for=\"sk-estimator-id-3247\" class=\"sk-toggleable__label sk-toggleable__label-arrow\">RandomizedSearchCV</label><div class=\"sk-toggleable__content\"><pre>RandomizedSearchCV(cv=StratifiedKFold(n_splits=10, random_state=10, shuffle=True),\n",
       "                   estimator=CalibratedClassifierCV(base_estimator=LGBMClassifier(boosting_type=&#x27;dart&#x27;,\n",
       "                                                                                  interaction_constraints=[[0,\n",
       "                                                                                                            2,\n",
       "                                                                                                            3,\n",
       "                                                                                                            4,\n",
       "                                                                                                            5,\n",
       "                                                                                                            6,\n",
       "                                                                                                            7,\n",
       "                                                                                                            8,\n",
       "                                                                                                            9,\n",
       "                                                                                                            10,\n",
       "                                                                                                            11,\n",
       "                                                                                                            12,\n",
       "                                                                                                            13,\n",
       "                                                                                                            14,\n",
       "                                                                                                            15,\n",
       "                                                                                                            16,\n",
       "                                                                                                            17,\n",
       "                                                                                                            18,\n",
       "                                                                                                            19,\n",
       "                                                                                                            20,\n",
       "                                                                                                            21,\n",
       "                                                                                                            22,\n",
       "                                                                                                            23,\n",
       "                                                                                                            24,\n",
       "                                                                                                            25,\n",
       "                                                                                                            26,\n",
       "                                                                                                            27,\n",
       "                                                                                                            28,\n",
       "                                                                                                            29],\n",
       "                                                                                                           [1]],\n",
       "                                                                                  monotone_constraints=[0,\n",
       "                                                                                                        1,\n",
       "                                                                                                        0,\n",
       "                                                                                                        0,\n",
       "                                                                                                        0,\n",
       "                                                                                                        0,\n",
       "                                                                                                        0,\n",
       "                                                                                                        0,\n",
       "                                                                                                        0,\n",
       "                                                                                                        1,\n",
       "                                                                                                        0,\n",
       "                                                                                                        0,\n",
       "                                                                                                        0,\n",
       "                                                                                                        0,\n",
       "                                                                                                        0,\n",
       "                                                                                                        0,\n",
       "                                                                                                        0,\n",
       "                                                                                                        0,\n",
       "                                                                                                        0,\n",
       "                                                                                                        0,\n",
       "                                                                                                        0,\n",
       "                                                                                                        0,\n",
       "                                                                                                        0,\n",
       "                                                                                                        0,\n",
       "                                                                                                        0,\n",
       "                                                                                                        0,\n",
       "                                                                                                        0,...\n",
       "       2.68269580e+00, 3.55648031e+00, 4.71486636e+00, 6.25055193e+00,\n",
       "       8.28642773e+00, 1.09854114e+01, 1.45634848e+01, 1.93069773e+01,\n",
       "       2.55954792e+01, 3.39322177e+01, 4.49843267e+01, 5.96362332e+01,\n",
       "       7.90604321e+01, 1.04811313e+02, 1.38949549e+02, 1.84206997e+02,\n",
       "       2.44205309e+02, 3.23745754e+02, 4.29193426e+02, 5.68986603e+02,\n",
       "       7.54312006e+02, 1.00000000e+03])},\n",
       "                   refit=&#x27;neg_log_loss&#x27;, scoring=[&#x27;neg_log_loss&#x27;, &#x27;roc_auc&#x27;])</pre></div></div></div><div class=\"sk-parallel\"><div class=\"sk-parallel-item\"><div class=\"sk-item\"><div class=\"sk-label-container\"><div class=\"sk-label sk-toggleable\"><input class=\"sk-toggleable__control sk-hidden--visually\" id=\"sk-estimator-id-3248\" type=\"checkbox\" ><label for=\"sk-estimator-id-3248\" class=\"sk-toggleable__label sk-toggleable__label-arrow\">estimator: CalibratedClassifierCV</label><div class=\"sk-toggleable__content\"><pre>CalibratedClassifierCV(base_estimator=LGBMClassifier(boosting_type=&#x27;dart&#x27;,\n",
       "                                                     interaction_constraints=[[0,\n",
       "                                                                               2,\n",
       "                                                                               3,\n",
       "                                                                               4,\n",
       "                                                                               5,\n",
       "                                                                               6,\n",
       "                                                                               7,\n",
       "                                                                               8,\n",
       "                                                                               9,\n",
       "                                                                               10,\n",
       "                                                                               11,\n",
       "                                                                               12,\n",
       "                                                                               13,\n",
       "                                                                               14,\n",
       "                                                                               15,\n",
       "                                                                               16,\n",
       "                                                                               17,\n",
       "                                                                               18,\n",
       "                                                                               19,\n",
       "                                                                               20,\n",
       "                                                                               21,\n",
       "                                                                               22,\n",
       "                                                                               23,\n",
       "                                                                               24,\n",
       "                                                                               25,\n",
       "                                                                               26,\n",
       "                                                                               27,\n",
       "                                                                               28,\n",
       "                                                                               29],\n",
       "                                                                              [1]],\n",
       "                                                     monotone_constraints=[0, 1,\n",
       "                                                                           0, 0,\n",
       "                                                                           0, 0,\n",
       "                                                                           0, 0,\n",
       "                                                                           0, 1,\n",
       "                                                                           0, 0,\n",
       "                                                                           0, 0,\n",
       "                                                                           0, 0,\n",
       "                                                                           0, 0,\n",
       "                                                                           0, 0,\n",
       "                                                                           0, 0,\n",
       "                                                                           0, 0,\n",
       "                                                                           0, 0,\n",
       "                                                                           0, 0,\n",
       "                                                                           0,\n",
       "                                                                           0],\n",
       "                                                     monotone_constraints_method=&#x27;advanced&#x27;))</pre></div></div></div><div class=\"sk-serial\"><div class=\"sk-item sk-dashed-wrapped\"><div class=\"sk-parallel\"><div class=\"sk-parallel-item\"><div class=\"sk-item\"><div class=\"sk-label-container\"><div class=\"sk-label sk-toggleable\"><input class=\"sk-toggleable__control sk-hidden--visually\" id=\"sk-estimator-id-3249\" type=\"checkbox\" ><label for=\"sk-estimator-id-3249\" class=\"sk-toggleable__label sk-toggleable__label-arrow\">base_estimator: LGBMClassifier</label><div class=\"sk-toggleable__content\"><pre>LGBMClassifier(boosting_type=&#x27;dart&#x27;,\n",
       "               interaction_constraints=[[0, 2, 3, 4, 5, 6, 7, 8, 9, 10, 11, 12,\n",
       "                                         13, 14, 15, 16, 17, 18, 19, 20, 21, 22,\n",
       "                                         23, 24, 25, 26, 27, 28, 29],\n",
       "                                        [1]],\n",
       "               monotone_constraints=[0, 1, 0, 0, 0, 0, 0, 0, 0, 1, 0, 0, 0, 0,\n",
       "                                     0, 0, 0, 0, 0, 0, 0, 0, 0, 0, 0, 0, 0, 0,\n",
       "                                     0, 0],\n",
       "               monotone_constraints_method=&#x27;advanced&#x27;)</pre></div></div></div><div class=\"sk-serial\"><div class=\"sk-item\"><div class=\"sk-estimator sk-toggleable\"><input class=\"sk-toggleable__control sk-hidden--visually\" id=\"sk-estimator-id-3250\" type=\"checkbox\" ><label for=\"sk-estimator-id-3250\" class=\"sk-toggleable__label sk-toggleable__label-arrow\">LGBMClassifier</label><div class=\"sk-toggleable__content\"><pre>LGBMClassifier(boosting_type=&#x27;dart&#x27;,\n",
       "               interaction_constraints=[[0, 2, 3, 4, 5, 6, 7, 8, 9, 10, 11, 12,\n",
       "                                         13, 14, 15, 16, 17, 18, 19, 20, 21, 22,\n",
       "                                         23, 24, 25, 26, 27, 28, 29],\n",
       "                                        [1]],\n",
       "               monotone_constraints=[0, 1, 0, 0, 0, 0, 0, 0, 0, 1, 0, 0, 0, 0,\n",
       "                                     0, 0, 0, 0, 0, 0, 0, 0, 0, 0, 0, 0, 0, 0,\n",
       "                                     0, 0],\n",
       "               monotone_constraints_method=&#x27;advanced&#x27;)</pre></div></div></div></div></div></div></div></div></div></div></div></div></div></div></div>"
      ],
      "text/plain": [
       "RandomizedSearchCV(cv=StratifiedKFold(n_splits=10, random_state=10, shuffle=True),\n",
       "                   estimator=CalibratedClassifierCV(base_estimator=LGBMClassifier(boosting_type='dart',\n",
       "                                                                                  interaction_constraints=[[0,\n",
       "                                                                                                            2,\n",
       "                                                                                                            3,\n",
       "                                                                                                            4,\n",
       "                                                                                                            5,\n",
       "                                                                                                            6,\n",
       "                                                                                                            7,\n",
       "                                                                                                            8,\n",
       "                                                                                                            9,\n",
       "                                                                                                            10,\n",
       "                                                                                                            11,\n",
       "                                                                                                            12,\n",
       "                                                                                                            13,\n",
       "                                                                                                            14,\n",
       "                                                                                                            15,\n",
       "                                                                                                            16,\n",
       "                                                                                                            17,\n",
       "                                                                                                            18,\n",
       "                                                                                                            19,\n",
       "                                                                                                            20,\n",
       "                                                                                                            21,\n",
       "                                                                                                            22,\n",
       "                                                                                                            23,\n",
       "                                                                                                            24,\n",
       "                                                                                                            25,\n",
       "                                                                                                            26,\n",
       "                                                                                                            27,\n",
       "                                                                                                            28,\n",
       "                                                                                                            29],\n",
       "                                                                                                           [1]],\n",
       "                                                                                  monotone_constraints=[0,\n",
       "                                                                                                        1,\n",
       "                                                                                                        0,\n",
       "                                                                                                        0,\n",
       "                                                                                                        0,\n",
       "                                                                                                        0,\n",
       "                                                                                                        0,\n",
       "                                                                                                        0,\n",
       "                                                                                                        0,\n",
       "                                                                                                        1,\n",
       "                                                                                                        0,\n",
       "                                                                                                        0,\n",
       "                                                                                                        0,\n",
       "                                                                                                        0,\n",
       "                                                                                                        0,\n",
       "                                                                                                        0,\n",
       "                                                                                                        0,\n",
       "                                                                                                        0,\n",
       "                                                                                                        0,\n",
       "                                                                                                        0,\n",
       "                                                                                                        0,\n",
       "                                                                                                        0,\n",
       "                                                                                                        0,\n",
       "                                                                                                        0,\n",
       "                                                                                                        0,\n",
       "                                                                                                        0,\n",
       "                                                                                                        0,...\n",
       "       2.68269580e+00, 3.55648031e+00, 4.71486636e+00, 6.25055193e+00,\n",
       "       8.28642773e+00, 1.09854114e+01, 1.45634848e+01, 1.93069773e+01,\n",
       "       2.55954792e+01, 3.39322177e+01, 4.49843267e+01, 5.96362332e+01,\n",
       "       7.90604321e+01, 1.04811313e+02, 1.38949549e+02, 1.84206997e+02,\n",
       "       2.44205309e+02, 3.23745754e+02, 4.29193426e+02, 5.68986603e+02,\n",
       "       7.54312006e+02, 1.00000000e+03])},\n",
       "                   refit='neg_log_loss', scoring=['neg_log_loss', 'roc_auc'])"
      ]
     },
     "execution_count": 414,
     "metadata": {},
     "output_type": "execute_result"
    }
   ],
   "source": [
    "gbdt_model_cv"
   ]
  },
  {
   "cell_type": "code",
   "execution_count": 415,
   "id": "1f995d7a-8ba4-4ce1-8ede-bca603d801a1",
   "metadata": {},
   "outputs": [],
   "source": [
    "cv_results_gbdt = pd.DataFrame.from_dict(gbdt_model_cv.cv_results_)\n",
    "cv_results_gbdt.sort_values(by='rank_test_neg_log_loss').to_csv('gbdt_CV.csv')"
   ]
  },
  {
   "cell_type": "code",
   "execution_count": 416,
   "id": "17136e95-c838-450f-a961-03a9b397225a",
   "metadata": {},
   "outputs": [
    {
     "data": {
      "text/plain": [
       "0.49595216182373314"
      ]
     },
     "execution_count": 416,
     "metadata": {},
     "output_type": "execute_result"
    }
   ],
   "source": [
    "log_loss(y_pred=gbdt_model_cv.predict_proba(X_te)[:,1],y_true=y_te)"
   ]
  },
  {
   "cell_type": "code",
   "execution_count": 417,
   "id": "ddfb1046-2978-4c61-aa34-435d9784da76",
   "metadata": {},
   "outputs": [
    {
     "data": {
      "text/plain": [
       "0.7969845722300141"
      ]
     },
     "execution_count": 417,
     "metadata": {},
     "output_type": "execute_result"
    }
   ],
   "source": [
    "from sklearn.metrics import roc_auc_score\n",
    "roc_auc_score(y_score=gbdt_model_cv.predict_proba(X_te)[:,1],y_true=y_te)"
   ]
  },
  {
   "cell_type": "code",
   "execution_count": 418,
   "id": "c918650f-f0db-4253-a926-b4b645d66f66",
   "metadata": {},
   "outputs": [
    {
     "data": {
      "text/plain": [
       "['gbdt_model.joblib']"
      ]
     },
     "execution_count": 418,
     "metadata": {},
     "output_type": "execute_result"
    }
   ],
   "source": [
    "joblib.dump(gbdt_model_cv,'gbdt_model.joblib')"
   ]
  },
  {
   "cell_type": "code",
   "execution_count": 419,
   "id": "36bc26c0-37a5-4412-bbf1-913019872d5d",
   "metadata": {},
   "outputs": [],
   "source": [
    "with open(\"gbdt_pipeline.html\", \"w\", encoding='utf-8') as f:\n",
    "    f.write(estimator_html_repr(gbdt_model_cv))"
   ]
  },
  {
   "cell_type": "markdown",
   "id": "59f281c0-d7af-419f-b022-123d16a7bab5",
   "metadata": {},
   "source": [
    "# Random forest\n",
    "Do not use. One tree ensemble model is enough for now."
   ]
  },
  {
   "cell_type": "code",
   "execution_count": null,
   "id": "ad9c6f2e-a8e3-4051-bb4b-a21f35a8f71a",
   "metadata": {},
   "outputs": [],
   "source": [
    "import lightgbm as lgb\n",
    "from sklearn.model_selection import RandomizedSearchCV\n",
    "param_dist = {'base_estimator__max_depth': range(1,10),\n",
    "              'base_estimator__num_iterations':[500],\n",
    "              'base_estimator__reg_lambda':np.logspace(-3,3),\n",
    "             'base_estimator__feature_fraction_bynode':[.2],\n",
    "              'base_estimator__bagging_freq':[1],\n",
    "             'base_estimator__bagging_fraction':[.9]}\n",
    "\n",
    "\n",
    "from sklearn.calibration import CalibratedClassifierCV\n",
    "\n",
    "rf_model_cv = RandomizedSearchCV(CalibratedClassifierCV(lgb.LGBMClassifier(boosting_type = 'rf')),\n",
    "                                   n_iter=64,\n",
    "                                   param_distributions = param_dist, \n",
    "                                   cv = skf,scoring =['neg_log_loss', 'roc_auc'],refit = 'neg_log_loss')"
   ]
  },
  {
   "cell_type": "code",
   "execution_count": null,
   "id": "d01fbed9-d332-4dd1-9edc-45a96f375e65",
   "metadata": {},
   "outputs": [],
   "source": [
    "rf_model_cv.fit(X_tr,y_tr)\n"
   ]
  },
  {
   "cell_type": "code",
   "execution_count": null,
   "id": "58d45d18-fbd0-4fb7-a50f-b1cb9a145283",
   "metadata": {},
   "outputs": [],
   "source": [
    "rf_model_cv"
   ]
  },
  {
   "cell_type": "code",
   "execution_count": null,
   "id": "796110f3-2b03-4971-912f-817a6f7c69c1",
   "metadata": {},
   "outputs": [],
   "source": [
    "cv_results_rf = pd.DataFrame.from_dict(rf_model_cv.cv_results_)\n",
    "cv_results_rf.sort_values(by='rank_test_score').to_csv('rf_CV.csv')"
   ]
  },
  {
   "cell_type": "code",
   "execution_count": null,
   "id": "f178d999-7396-499e-ba35-32c91fde044b",
   "metadata": {},
   "outputs": [],
   "source": [
    "log_loss(y_pred=rf_model_cv.predict_proba(X_te)[:,1],y_true=y_te)"
   ]
  },
  {
   "cell_type": "code",
   "execution_count": null,
   "id": "807d61b3-ab23-4f27-acc5-c7c3c12f8c9d",
   "metadata": {},
   "outputs": [],
   "source": [
    "from sklearn.metrics import roc_auc_score\n",
    "roc_auc_score(y_score=rf_model_cv.predict_proba(X_te)[:,1],y_true=y_te)"
   ]
  },
  {
   "cell_type": "code",
   "execution_count": null,
   "id": "eec1db3c-f59b-4c10-9a0a-914de40ec2ff",
   "metadata": {},
   "outputs": [],
   "source": [
    "y_te.sum()"
   ]
  }
 ],
 "metadata": {
  "kernelspec": {
   "display_name": "Python 3 (ipykernel)",
   "language": "python",
   "name": "python3"
  },
  "language_info": {
   "codemirror_mode": {
    "name": "ipython",
    "version": 3
   },
   "file_extension": ".py",
   "mimetype": "text/x-python",
   "name": "python",
   "nbconvert_exporter": "python",
   "pygments_lexer": "ipython3",
   "version": "3.10.4"
  }
 },
 "nbformat": 4,
 "nbformat_minor": 5
}
